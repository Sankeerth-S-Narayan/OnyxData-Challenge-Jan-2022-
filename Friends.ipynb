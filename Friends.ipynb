{
 "cells": [
  {
   "cell_type": "markdown",
   "id": "c3fc1ca5",
   "metadata": {},
   "source": [
    "# ONYXDATA CHALLENGE (JAN 2022)"
   ]
  },
  {
   "cell_type": "markdown",
   "id": "25f42264",
   "metadata": {},
   "source": [
    "## Problem Statement"
   ]
  },
  {
   "cell_type": "markdown",
   "id": "f7f179b4",
   "metadata": {},
   "source": [
    "#### Identify what makes a great Friends episode from the friends series dataset"
   ]
  },
  {
   "cell_type": "markdown",
   "id": "208e70ac",
   "metadata": {},
   "source": [
    "## Importing necessary libraries"
   ]
  },
  {
   "cell_type": "code",
   "execution_count": 1,
   "id": "55b540e2",
   "metadata": {},
   "outputs": [],
   "source": [
    "import pandas as pd\n",
    "import numpy as np\n",
    "import matplotlib.pyplot as plt\n",
    "import seaborn as sns"
   ]
  },
  {
   "cell_type": "markdown",
   "id": "7a528762",
   "metadata": {},
   "source": [
    "## Loading the dataset"
   ]
  },
  {
   "cell_type": "code",
   "execution_count": 2,
   "id": "41794cb5",
   "metadata": {},
   "outputs": [],
   "source": [
    "df=pd.read_csv(\"friends.csv\")"
   ]
  },
  {
   "cell_type": "code",
   "execution_count": 3,
   "id": "9e158b58",
   "metadata": {},
   "outputs": [
    {
     "data": {
      "text/html": [
       "<div>\n",
       "<style scoped>\n",
       "    .dataframe tbody tr th:only-of-type {\n",
       "        vertical-align: middle;\n",
       "    }\n",
       "\n",
       "    .dataframe tbody tr th {\n",
       "        vertical-align: top;\n",
       "    }\n",
       "\n",
       "    .dataframe thead th {\n",
       "        text-align: right;\n",
       "    }\n",
       "</style>\n",
       "<table border=\"1\" class=\"dataframe\">\n",
       "  <thead>\n",
       "    <tr style=\"text-align: right;\">\n",
       "      <th></th>\n",
       "      <th>Year_of_prod</th>\n",
       "      <th>Season</th>\n",
       "      <th>Episode_Title</th>\n",
       "      <th>Duration</th>\n",
       "      <th>Summary</th>\n",
       "      <th>Director</th>\n",
       "      <th>Stars</th>\n",
       "      <th>Votes</th>\n",
       "    </tr>\n",
       "  </thead>\n",
       "  <tbody>\n",
       "    <tr>\n",
       "      <th>0</th>\n",
       "      <td>1994</td>\n",
       "      <td>1</td>\n",
       "      <td>The One with the Sonogram at the End</td>\n",
       "      <td>22</td>\n",
       "      <td>Ross finds out his ex-wife is pregnant. Rachel...</td>\n",
       "      <td>James Burrows</td>\n",
       "      <td>8.1</td>\n",
       "      <td>4888</td>\n",
       "    </tr>\n",
       "    <tr>\n",
       "      <th>1</th>\n",
       "      <td>1994</td>\n",
       "      <td>1</td>\n",
       "      <td>The One with the Thumb</td>\n",
       "      <td>22</td>\n",
       "      <td>Monica becomes irritated when everyone likes h...</td>\n",
       "      <td>James Burrows</td>\n",
       "      <td>8.2</td>\n",
       "      <td>4605</td>\n",
       "    </tr>\n",
       "    <tr>\n",
       "      <th>2</th>\n",
       "      <td>1994</td>\n",
       "      <td>1</td>\n",
       "      <td>The One with George Stephanopoulos</td>\n",
       "      <td>22</td>\n",
       "      <td>Joey and Chandler take Ross to a hockey game t...</td>\n",
       "      <td>James Burrows</td>\n",
       "      <td>8.1</td>\n",
       "      <td>4468</td>\n",
       "    </tr>\n",
       "    <tr>\n",
       "      <th>3</th>\n",
       "      <td>1994</td>\n",
       "      <td>1</td>\n",
       "      <td>The One with the East German Laundry Detergent</td>\n",
       "      <td>22</td>\n",
       "      <td>Eager to spend time with Rachel, Ross pretends...</td>\n",
       "      <td>Pamela Fryman</td>\n",
       "      <td>8.5</td>\n",
       "      <td>4438</td>\n",
       "    </tr>\n",
       "    <tr>\n",
       "      <th>4</th>\n",
       "      <td>1994</td>\n",
       "      <td>1</td>\n",
       "      <td>The One with the Butt</td>\n",
       "      <td>22</td>\n",
       "      <td>Monica's obsessiveness is put to the test afte...</td>\n",
       "      <td>Arlene Sanford</td>\n",
       "      <td>8.1</td>\n",
       "      <td>4274</td>\n",
       "    </tr>\n",
       "    <tr>\n",
       "      <th>...</th>\n",
       "      <td>...</td>\n",
       "      <td>...</td>\n",
       "      <td>...</td>\n",
       "      <td>...</td>\n",
       "      <td>...</td>\n",
       "      <td>...</td>\n",
       "      <td>...</td>\n",
       "      <td>...</td>\n",
       "    </tr>\n",
       "    <tr>\n",
       "      <th>230</th>\n",
       "      <td>2004</td>\n",
       "      <td>10</td>\n",
       "      <td>The One with Princess Consuela</td>\n",
       "      <td>22</td>\n",
       "      <td>When Phoebe goes to get her name changed she r...</td>\n",
       "      <td>Gary Halvorson</td>\n",
       "      <td>8.6</td>\n",
       "      <td>2989</td>\n",
       "    </tr>\n",
       "    <tr>\n",
       "      <th>231</th>\n",
       "      <td>2004</td>\n",
       "      <td>10</td>\n",
       "      <td>The One Where Estelle Dies</td>\n",
       "      <td>22</td>\n",
       "      <td>Ross tries to get Rachel to go back to Ralph L...</td>\n",
       "      <td>Gary Halvorson</td>\n",
       "      <td>8.5</td>\n",
       "      <td>2771</td>\n",
       "    </tr>\n",
       "    <tr>\n",
       "      <th>232</th>\n",
       "      <td>2004</td>\n",
       "      <td>10</td>\n",
       "      <td>The One with Rachel's Going Away Party</td>\n",
       "      <td>22</td>\n",
       "      <td>The gang throws Rachel a goodbye party, during...</td>\n",
       "      <td>Gary Halvorson</td>\n",
       "      <td>8.9</td>\n",
       "      <td>3141</td>\n",
       "    </tr>\n",
       "    <tr>\n",
       "      <th>233</th>\n",
       "      <td>2004</td>\n",
       "      <td>10</td>\n",
       "      <td>The Last One</td>\n",
       "      <td>30</td>\n",
       "      <td>Erica gives birth to the baby that Monica and ...</td>\n",
       "      <td>Kevin Bright</td>\n",
       "      <td>9.5</td>\n",
       "      <td>6221</td>\n",
       "    </tr>\n",
       "    <tr>\n",
       "      <th>234</th>\n",
       "      <td>2004</td>\n",
       "      <td>10</td>\n",
       "      <td>The Last One</td>\n",
       "      <td>30</td>\n",
       "      <td>Phoebe races Ross to the airport in a bid to s...</td>\n",
       "      <td>Kevin Bright</td>\n",
       "      <td>9.7</td>\n",
       "      <td>10381</td>\n",
       "    </tr>\n",
       "  </tbody>\n",
       "</table>\n",
       "<p>235 rows × 8 columns</p>\n",
       "</div>"
      ],
      "text/plain": [
       "     Year_of_prod  Season                                   Episode_Title  \\\n",
       "0            1994       1            The One with the Sonogram at the End   \n",
       "1            1994       1                          The One with the Thumb   \n",
       "2            1994       1              The One with George Stephanopoulos   \n",
       "3            1994       1  The One with the East German Laundry Detergent   \n",
       "4            1994       1                           The One with the Butt   \n",
       "..            ...     ...                                             ...   \n",
       "230          2004      10                  The One with Princess Consuela   \n",
       "231          2004      10                      The One Where Estelle Dies   \n",
       "232          2004      10          The One with Rachel's Going Away Party   \n",
       "233          2004      10                                    The Last One   \n",
       "234          2004      10                                    The Last One   \n",
       "\n",
       "     Duration                                            Summary  \\\n",
       "0          22  Ross finds out his ex-wife is pregnant. Rachel...   \n",
       "1          22  Monica becomes irritated when everyone likes h...   \n",
       "2          22  Joey and Chandler take Ross to a hockey game t...   \n",
       "3          22  Eager to spend time with Rachel, Ross pretends...   \n",
       "4          22  Monica's obsessiveness is put to the test afte...   \n",
       "..        ...                                                ...   \n",
       "230        22  When Phoebe goes to get her name changed she r...   \n",
       "231        22  Ross tries to get Rachel to go back to Ralph L...   \n",
       "232        22  The gang throws Rachel a goodbye party, during...   \n",
       "233        30  Erica gives birth to the baby that Monica and ...   \n",
       "234        30  Phoebe races Ross to the airport in a bid to s...   \n",
       "\n",
       "           Director  Stars  Votes  \n",
       "0     James Burrows    8.1   4888  \n",
       "1     James Burrows    8.2   4605  \n",
       "2     James Burrows    8.1   4468  \n",
       "3     Pamela Fryman    8.5   4438  \n",
       "4    Arlene Sanford    8.1   4274  \n",
       "..              ...    ...    ...  \n",
       "230  Gary Halvorson    8.6   2989  \n",
       "231  Gary Halvorson    8.5   2771  \n",
       "232  Gary Halvorson    8.9   3141  \n",
       "233    Kevin Bright    9.5   6221  \n",
       "234    Kevin Bright    9.7  10381  \n",
       "\n",
       "[235 rows x 8 columns]"
      ]
     },
     "execution_count": 3,
     "metadata": {},
     "output_type": "execute_result"
    }
   ],
   "source": [
    "df"
   ]
  },
  {
   "cell_type": "markdown",
   "id": "4a0ec615",
   "metadata": {},
   "source": [
    "## Understanding and preparation of the dataset"
   ]
  },
  {
   "cell_type": "code",
   "execution_count": 4,
   "id": "3cac9f0a",
   "metadata": {},
   "outputs": [
    {
     "data": {
      "text/html": [
       "<div>\n",
       "<style scoped>\n",
       "    .dataframe tbody tr th:only-of-type {\n",
       "        vertical-align: middle;\n",
       "    }\n",
       "\n",
       "    .dataframe tbody tr th {\n",
       "        vertical-align: top;\n",
       "    }\n",
       "\n",
       "    .dataframe thead th {\n",
       "        text-align: right;\n",
       "    }\n",
       "</style>\n",
       "<table border=\"1\" class=\"dataframe\">\n",
       "  <thead>\n",
       "    <tr style=\"text-align: right;\">\n",
       "      <th></th>\n",
       "      <th>Year_of_prod</th>\n",
       "      <th>Season</th>\n",
       "      <th>Episode_Title</th>\n",
       "      <th>Duration</th>\n",
       "      <th>Summary</th>\n",
       "      <th>Director</th>\n",
       "      <th>Stars</th>\n",
       "      <th>Votes</th>\n",
       "    </tr>\n",
       "  </thead>\n",
       "  <tbody>\n",
       "    <tr>\n",
       "      <th>0</th>\n",
       "      <td>1994</td>\n",
       "      <td>1</td>\n",
       "      <td>The One with the Sonogram at the End</td>\n",
       "      <td>22</td>\n",
       "      <td>Ross finds out his ex-wife is pregnant. Rachel...</td>\n",
       "      <td>James Burrows</td>\n",
       "      <td>8.1</td>\n",
       "      <td>4888</td>\n",
       "    </tr>\n",
       "    <tr>\n",
       "      <th>1</th>\n",
       "      <td>1994</td>\n",
       "      <td>1</td>\n",
       "      <td>The One with the Thumb</td>\n",
       "      <td>22</td>\n",
       "      <td>Monica becomes irritated when everyone likes h...</td>\n",
       "      <td>James Burrows</td>\n",
       "      <td>8.2</td>\n",
       "      <td>4605</td>\n",
       "    </tr>\n",
       "    <tr>\n",
       "      <th>2</th>\n",
       "      <td>1994</td>\n",
       "      <td>1</td>\n",
       "      <td>The One with George Stephanopoulos</td>\n",
       "      <td>22</td>\n",
       "      <td>Joey and Chandler take Ross to a hockey game t...</td>\n",
       "      <td>James Burrows</td>\n",
       "      <td>8.1</td>\n",
       "      <td>4468</td>\n",
       "    </tr>\n",
       "    <tr>\n",
       "      <th>3</th>\n",
       "      <td>1994</td>\n",
       "      <td>1</td>\n",
       "      <td>The One with the East German Laundry Detergent</td>\n",
       "      <td>22</td>\n",
       "      <td>Eager to spend time with Rachel, Ross pretends...</td>\n",
       "      <td>Pamela Fryman</td>\n",
       "      <td>8.5</td>\n",
       "      <td>4438</td>\n",
       "    </tr>\n",
       "    <tr>\n",
       "      <th>4</th>\n",
       "      <td>1994</td>\n",
       "      <td>1</td>\n",
       "      <td>The One with the Butt</td>\n",
       "      <td>22</td>\n",
       "      <td>Monica's obsessiveness is put to the test afte...</td>\n",
       "      <td>Arlene Sanford</td>\n",
       "      <td>8.1</td>\n",
       "      <td>4274</td>\n",
       "    </tr>\n",
       "  </tbody>\n",
       "</table>\n",
       "</div>"
      ],
      "text/plain": [
       "   Year_of_prod  Season                                   Episode_Title  \\\n",
       "0          1994       1            The One with the Sonogram at the End   \n",
       "1          1994       1                          The One with the Thumb   \n",
       "2          1994       1              The One with George Stephanopoulos   \n",
       "3          1994       1  The One with the East German Laundry Detergent   \n",
       "4          1994       1                           The One with the Butt   \n",
       "\n",
       "   Duration                                            Summary  \\\n",
       "0        22  Ross finds out his ex-wife is pregnant. Rachel...   \n",
       "1        22  Monica becomes irritated when everyone likes h...   \n",
       "2        22  Joey and Chandler take Ross to a hockey game t...   \n",
       "3        22  Eager to spend time with Rachel, Ross pretends...   \n",
       "4        22  Monica's obsessiveness is put to the test afte...   \n",
       "\n",
       "         Director  Stars  Votes  \n",
       "0   James Burrows    8.1   4888  \n",
       "1   James Burrows    8.2   4605  \n",
       "2   James Burrows    8.1   4468  \n",
       "3   Pamela Fryman    8.5   4438  \n",
       "4  Arlene Sanford    8.1   4274  "
      ]
     },
     "execution_count": 4,
     "metadata": {},
     "output_type": "execute_result"
    }
   ],
   "source": [
    "df.head(5)"
   ]
  },
  {
   "cell_type": "code",
   "execution_count": 5,
   "id": "0f1f4bce",
   "metadata": {},
   "outputs": [
    {
     "data": {
      "text/html": [
       "<div>\n",
       "<style scoped>\n",
       "    .dataframe tbody tr th:only-of-type {\n",
       "        vertical-align: middle;\n",
       "    }\n",
       "\n",
       "    .dataframe tbody tr th {\n",
       "        vertical-align: top;\n",
       "    }\n",
       "\n",
       "    .dataframe thead th {\n",
       "        text-align: right;\n",
       "    }\n",
       "</style>\n",
       "<table border=\"1\" class=\"dataframe\">\n",
       "  <thead>\n",
       "    <tr style=\"text-align: right;\">\n",
       "      <th></th>\n",
       "      <th>Year_of_prod</th>\n",
       "      <th>Season</th>\n",
       "      <th>Episode_Title</th>\n",
       "      <th>Duration</th>\n",
       "      <th>Summary</th>\n",
       "      <th>Director</th>\n",
       "      <th>Stars</th>\n",
       "      <th>Votes</th>\n",
       "    </tr>\n",
       "  </thead>\n",
       "  <tbody>\n",
       "    <tr>\n",
       "      <th>230</th>\n",
       "      <td>2004</td>\n",
       "      <td>10</td>\n",
       "      <td>The One with Princess Consuela</td>\n",
       "      <td>22</td>\n",
       "      <td>When Phoebe goes to get her name changed she r...</td>\n",
       "      <td>Gary Halvorson</td>\n",
       "      <td>8.6</td>\n",
       "      <td>2989</td>\n",
       "    </tr>\n",
       "    <tr>\n",
       "      <th>231</th>\n",
       "      <td>2004</td>\n",
       "      <td>10</td>\n",
       "      <td>The One Where Estelle Dies</td>\n",
       "      <td>22</td>\n",
       "      <td>Ross tries to get Rachel to go back to Ralph L...</td>\n",
       "      <td>Gary Halvorson</td>\n",
       "      <td>8.5</td>\n",
       "      <td>2771</td>\n",
       "    </tr>\n",
       "    <tr>\n",
       "      <th>232</th>\n",
       "      <td>2004</td>\n",
       "      <td>10</td>\n",
       "      <td>The One with Rachel's Going Away Party</td>\n",
       "      <td>22</td>\n",
       "      <td>The gang throws Rachel a goodbye party, during...</td>\n",
       "      <td>Gary Halvorson</td>\n",
       "      <td>8.9</td>\n",
       "      <td>3141</td>\n",
       "    </tr>\n",
       "    <tr>\n",
       "      <th>233</th>\n",
       "      <td>2004</td>\n",
       "      <td>10</td>\n",
       "      <td>The Last One</td>\n",
       "      <td>30</td>\n",
       "      <td>Erica gives birth to the baby that Monica and ...</td>\n",
       "      <td>Kevin Bright</td>\n",
       "      <td>9.5</td>\n",
       "      <td>6221</td>\n",
       "    </tr>\n",
       "    <tr>\n",
       "      <th>234</th>\n",
       "      <td>2004</td>\n",
       "      <td>10</td>\n",
       "      <td>The Last One</td>\n",
       "      <td>30</td>\n",
       "      <td>Phoebe races Ross to the airport in a bid to s...</td>\n",
       "      <td>Kevin Bright</td>\n",
       "      <td>9.7</td>\n",
       "      <td>10381</td>\n",
       "    </tr>\n",
       "  </tbody>\n",
       "</table>\n",
       "</div>"
      ],
      "text/plain": [
       "     Year_of_prod  Season                           Episode_Title  Duration  \\\n",
       "230          2004      10          The One with Princess Consuela        22   \n",
       "231          2004      10              The One Where Estelle Dies        22   \n",
       "232          2004      10  The One with Rachel's Going Away Party        22   \n",
       "233          2004      10                            The Last One        30   \n",
       "234          2004      10                            The Last One        30   \n",
       "\n",
       "                                               Summary        Director  Stars  \\\n",
       "230  When Phoebe goes to get her name changed she r...  Gary Halvorson    8.6   \n",
       "231  Ross tries to get Rachel to go back to Ralph L...  Gary Halvorson    8.5   \n",
       "232  The gang throws Rachel a goodbye party, during...  Gary Halvorson    8.9   \n",
       "233  Erica gives birth to the baby that Monica and ...    Kevin Bright    9.5   \n",
       "234  Phoebe races Ross to the airport in a bid to s...    Kevin Bright    9.7   \n",
       "\n",
       "     Votes  \n",
       "230   2989  \n",
       "231   2771  \n",
       "232   3141  \n",
       "233   6221  \n",
       "234  10381  "
      ]
     },
     "execution_count": 5,
     "metadata": {},
     "output_type": "execute_result"
    }
   ],
   "source": [
    "df.tail(5)"
   ]
  },
  {
   "cell_type": "code",
   "execution_count": 6,
   "id": "74e1e93e",
   "metadata": {},
   "outputs": [
    {
     "data": {
      "text/plain": [
       "Year_of_prod       int64\n",
       "Season             int64\n",
       "Episode_Title     object\n",
       "Duration           int64\n",
       "Summary           object\n",
       "Director          object\n",
       "Stars            float64\n",
       "Votes              int64\n",
       "dtype: object"
      ]
     },
     "execution_count": 6,
     "metadata": {},
     "output_type": "execute_result"
    }
   ],
   "source": [
    "df.dtypes"
   ]
  },
  {
   "cell_type": "code",
   "execution_count": 7,
   "id": "a5dd2175",
   "metadata": {},
   "outputs": [
    {
     "name": "stdout",
     "output_type": "stream",
     "text": [
      "<class 'pandas.core.frame.DataFrame'>\n",
      "RangeIndex: 235 entries, 0 to 234\n",
      "Data columns (total 8 columns):\n",
      " #   Column         Non-Null Count  Dtype  \n",
      "---  ------         --------------  -----  \n",
      " 0   Year_of_prod   235 non-null    int64  \n",
      " 1   Season         235 non-null    int64  \n",
      " 2   Episode_Title  235 non-null    object \n",
      " 3   Duration       235 non-null    int64  \n",
      " 4   Summary        235 non-null    object \n",
      " 5   Director       235 non-null    object \n",
      " 6   Stars          235 non-null    float64\n",
      " 7   Votes          235 non-null    int64  \n",
      "dtypes: float64(1), int64(4), object(3)\n",
      "memory usage: 14.8+ KB\n"
     ]
    }
   ],
   "source": [
    "df.info()"
   ]
  },
  {
   "cell_type": "code",
   "execution_count": 8,
   "id": "5edf327e",
   "metadata": {},
   "outputs": [
    {
     "data": {
      "text/html": [
       "<div>\n",
       "<style scoped>\n",
       "    .dataframe tbody tr th:only-of-type {\n",
       "        vertical-align: middle;\n",
       "    }\n",
       "\n",
       "    .dataframe tbody tr th {\n",
       "        vertical-align: top;\n",
       "    }\n",
       "\n",
       "    .dataframe thead th {\n",
       "        text-align: right;\n",
       "    }\n",
       "</style>\n",
       "<table border=\"1\" class=\"dataframe\">\n",
       "  <thead>\n",
       "    <tr style=\"text-align: right;\">\n",
       "      <th></th>\n",
       "      <th>Year_of_prod</th>\n",
       "      <th>Season</th>\n",
       "      <th>Duration</th>\n",
       "      <th>Stars</th>\n",
       "      <th>Votes</th>\n",
       "    </tr>\n",
       "  </thead>\n",
       "  <tbody>\n",
       "    <tr>\n",
       "      <th>count</th>\n",
       "      <td>235.000000</td>\n",
       "      <td>235.000000</td>\n",
       "      <td>235.000000</td>\n",
       "      <td>235.000000</td>\n",
       "      <td>235.000000</td>\n",
       "    </tr>\n",
       "    <tr>\n",
       "      <th>mean</th>\n",
       "      <td>1998.982979</td>\n",
       "      <td>5.395745</td>\n",
       "      <td>22.340426</td>\n",
       "      <td>8.459574</td>\n",
       "      <td>3352.285106</td>\n",
       "    </tr>\n",
       "    <tr>\n",
       "      <th>std</th>\n",
       "      <td>2.831396</td>\n",
       "      <td>2.805821</td>\n",
       "      <td>1.517372</td>\n",
       "      <td>0.397029</td>\n",
       "      <td>824.214570</td>\n",
       "    </tr>\n",
       "    <tr>\n",
       "      <th>min</th>\n",
       "      <td>1994.000000</td>\n",
       "      <td>1.000000</td>\n",
       "      <td>22.000000</td>\n",
       "      <td>7.200000</td>\n",
       "      <td>2557.000000</td>\n",
       "    </tr>\n",
       "    <tr>\n",
       "      <th>25%</th>\n",
       "      <td>1997.000000</td>\n",
       "      <td>3.000000</td>\n",
       "      <td>22.000000</td>\n",
       "      <td>8.200000</td>\n",
       "      <td>2885.500000</td>\n",
       "    </tr>\n",
       "    <tr>\n",
       "      <th>50%</th>\n",
       "      <td>1999.000000</td>\n",
       "      <td>5.000000</td>\n",
       "      <td>22.000000</td>\n",
       "      <td>8.400000</td>\n",
       "      <td>3147.000000</td>\n",
       "    </tr>\n",
       "    <tr>\n",
       "      <th>75%</th>\n",
       "      <td>2001.000000</td>\n",
       "      <td>8.000000</td>\n",
       "      <td>22.000000</td>\n",
       "      <td>8.700000</td>\n",
       "      <td>3579.500000</td>\n",
       "    </tr>\n",
       "    <tr>\n",
       "      <th>max</th>\n",
       "      <td>2004.000000</td>\n",
       "      <td>10.000000</td>\n",
       "      <td>30.000000</td>\n",
       "      <td>9.700000</td>\n",
       "      <td>10381.000000</td>\n",
       "    </tr>\n",
       "  </tbody>\n",
       "</table>\n",
       "</div>"
      ],
      "text/plain": [
       "       Year_of_prod      Season    Duration       Stars         Votes\n",
       "count    235.000000  235.000000  235.000000  235.000000    235.000000\n",
       "mean    1998.982979    5.395745   22.340426    8.459574   3352.285106\n",
       "std        2.831396    2.805821    1.517372    0.397029    824.214570\n",
       "min     1994.000000    1.000000   22.000000    7.200000   2557.000000\n",
       "25%     1997.000000    3.000000   22.000000    8.200000   2885.500000\n",
       "50%     1999.000000    5.000000   22.000000    8.400000   3147.000000\n",
       "75%     2001.000000    8.000000   22.000000    8.700000   3579.500000\n",
       "max     2004.000000   10.000000   30.000000    9.700000  10381.000000"
      ]
     },
     "execution_count": 8,
     "metadata": {},
     "output_type": "execute_result"
    }
   ],
   "source": [
    "df.describe()"
   ]
  },
  {
   "cell_type": "markdown",
   "id": "b72e41a7",
   "metadata": {},
   "source": [
    "### Checking for missing values"
   ]
  },
  {
   "cell_type": "code",
   "execution_count": 9,
   "id": "f4fb66ff",
   "metadata": {},
   "outputs": [
    {
     "data": {
      "text/plain": [
       "Year_of_prod     0\n",
       "Season           0\n",
       "Episode_Title    0\n",
       "Duration         0\n",
       "Summary          0\n",
       "Director         0\n",
       "Stars            0\n",
       "Votes            0\n",
       "dtype: int64"
      ]
     },
     "execution_count": 9,
     "metadata": {},
     "output_type": "execute_result"
    }
   ],
   "source": [
    "df.isnull().sum()"
   ]
  },
  {
   "cell_type": "markdown",
   "id": "05686e8a",
   "metadata": {},
   "source": [
    "#### There are no missing values"
   ]
  },
  {
   "cell_type": "code",
   "execution_count": 10,
   "id": "13a8279f",
   "metadata": {},
   "outputs": [
    {
     "data": {
      "text/html": [
       "<div>\n",
       "<style scoped>\n",
       "    .dataframe tbody tr th:only-of-type {\n",
       "        vertical-align: middle;\n",
       "    }\n",
       "\n",
       "    .dataframe tbody tr th {\n",
       "        vertical-align: top;\n",
       "    }\n",
       "\n",
       "    .dataframe thead th {\n",
       "        text-align: right;\n",
       "    }\n",
       "</style>\n",
       "<table border=\"1\" class=\"dataframe\">\n",
       "  <thead>\n",
       "    <tr style=\"text-align: right;\">\n",
       "      <th></th>\n",
       "      <th>Year_of_prod</th>\n",
       "      <th>Season</th>\n",
       "      <th>Episode_Title</th>\n",
       "      <th>Duration</th>\n",
       "      <th>Summary</th>\n",
       "      <th>Director</th>\n",
       "      <th>Stars</th>\n",
       "      <th>Votes</th>\n",
       "    </tr>\n",
       "  </thead>\n",
       "  <tbody>\n",
       "    <tr>\n",
       "      <th>0</th>\n",
       "      <td>1994</td>\n",
       "      <td>1</td>\n",
       "      <td>The One with the Sonogram at the End</td>\n",
       "      <td>22</td>\n",
       "      <td>Ross finds out his ex-wife is pregnant. Rachel...</td>\n",
       "      <td>James Burrows</td>\n",
       "      <td>8.1</td>\n",
       "      <td>4888</td>\n",
       "    </tr>\n",
       "    <tr>\n",
       "      <th>1</th>\n",
       "      <td>1994</td>\n",
       "      <td>1</td>\n",
       "      <td>The One with the Thumb</td>\n",
       "      <td>22</td>\n",
       "      <td>Monica becomes irritated when everyone likes h...</td>\n",
       "      <td>James Burrows</td>\n",
       "      <td>8.2</td>\n",
       "      <td>4605</td>\n",
       "    </tr>\n",
       "    <tr>\n",
       "      <th>2</th>\n",
       "      <td>1994</td>\n",
       "      <td>1</td>\n",
       "      <td>The One with George Stephanopoulos</td>\n",
       "      <td>22</td>\n",
       "      <td>Joey and Chandler take Ross to a hockey game t...</td>\n",
       "      <td>James Burrows</td>\n",
       "      <td>8.1</td>\n",
       "      <td>4468</td>\n",
       "    </tr>\n",
       "    <tr>\n",
       "      <th>3</th>\n",
       "      <td>1994</td>\n",
       "      <td>1</td>\n",
       "      <td>The One with the East German Laundry Detergent</td>\n",
       "      <td>22</td>\n",
       "      <td>Eager to spend time with Rachel, Ross pretends...</td>\n",
       "      <td>Pamela Fryman</td>\n",
       "      <td>8.5</td>\n",
       "      <td>4438</td>\n",
       "    </tr>\n",
       "    <tr>\n",
       "      <th>4</th>\n",
       "      <td>1994</td>\n",
       "      <td>1</td>\n",
       "      <td>The One with the Butt</td>\n",
       "      <td>22</td>\n",
       "      <td>Monica's obsessiveness is put to the test afte...</td>\n",
       "      <td>Arlene Sanford</td>\n",
       "      <td>8.1</td>\n",
       "      <td>4274</td>\n",
       "    </tr>\n",
       "    <tr>\n",
       "      <th>...</th>\n",
       "      <td>...</td>\n",
       "      <td>...</td>\n",
       "      <td>...</td>\n",
       "      <td>...</td>\n",
       "      <td>...</td>\n",
       "      <td>...</td>\n",
       "      <td>...</td>\n",
       "      <td>...</td>\n",
       "    </tr>\n",
       "    <tr>\n",
       "      <th>230</th>\n",
       "      <td>2004</td>\n",
       "      <td>10</td>\n",
       "      <td>The One with Princess Consuela</td>\n",
       "      <td>22</td>\n",
       "      <td>When Phoebe goes to get her name changed she r...</td>\n",
       "      <td>Gary Halvorson</td>\n",
       "      <td>8.6</td>\n",
       "      <td>2989</td>\n",
       "    </tr>\n",
       "    <tr>\n",
       "      <th>231</th>\n",
       "      <td>2004</td>\n",
       "      <td>10</td>\n",
       "      <td>The One Where Estelle Dies</td>\n",
       "      <td>22</td>\n",
       "      <td>Ross tries to get Rachel to go back to Ralph L...</td>\n",
       "      <td>Gary Halvorson</td>\n",
       "      <td>8.5</td>\n",
       "      <td>2771</td>\n",
       "    </tr>\n",
       "    <tr>\n",
       "      <th>232</th>\n",
       "      <td>2004</td>\n",
       "      <td>10</td>\n",
       "      <td>The One with Rachel's Going Away Party</td>\n",
       "      <td>22</td>\n",
       "      <td>The gang throws Rachel a goodbye party, during...</td>\n",
       "      <td>Gary Halvorson</td>\n",
       "      <td>8.9</td>\n",
       "      <td>3141</td>\n",
       "    </tr>\n",
       "    <tr>\n",
       "      <th>233</th>\n",
       "      <td>2004</td>\n",
       "      <td>10</td>\n",
       "      <td>The Last One</td>\n",
       "      <td>30</td>\n",
       "      <td>Erica gives birth to the baby that Monica and ...</td>\n",
       "      <td>Kevin Bright</td>\n",
       "      <td>9.5</td>\n",
       "      <td>6221</td>\n",
       "    </tr>\n",
       "    <tr>\n",
       "      <th>234</th>\n",
       "      <td>2004</td>\n",
       "      <td>10</td>\n",
       "      <td>The Last One</td>\n",
       "      <td>30</td>\n",
       "      <td>Phoebe races Ross to the airport in a bid to s...</td>\n",
       "      <td>Kevin Bright</td>\n",
       "      <td>9.7</td>\n",
       "      <td>10381</td>\n",
       "    </tr>\n",
       "  </tbody>\n",
       "</table>\n",
       "<p>235 rows × 8 columns</p>\n",
       "</div>"
      ],
      "text/plain": [
       "     Year_of_prod  Season                                   Episode_Title  \\\n",
       "0            1994       1            The One with the Sonogram at the End   \n",
       "1            1994       1                          The One with the Thumb   \n",
       "2            1994       1              The One with George Stephanopoulos   \n",
       "3            1994       1  The One with the East German Laundry Detergent   \n",
       "4            1994       1                           The One with the Butt   \n",
       "..            ...     ...                                             ...   \n",
       "230          2004      10                  The One with Princess Consuela   \n",
       "231          2004      10                      The One Where Estelle Dies   \n",
       "232          2004      10          The One with Rachel's Going Away Party   \n",
       "233          2004      10                                    The Last One   \n",
       "234          2004      10                                    The Last One   \n",
       "\n",
       "     Duration                                            Summary  \\\n",
       "0          22  Ross finds out his ex-wife is pregnant. Rachel...   \n",
       "1          22  Monica becomes irritated when everyone likes h...   \n",
       "2          22  Joey and Chandler take Ross to a hockey game t...   \n",
       "3          22  Eager to spend time with Rachel, Ross pretends...   \n",
       "4          22  Monica's obsessiveness is put to the test afte...   \n",
       "..        ...                                                ...   \n",
       "230        22  When Phoebe goes to get her name changed she r...   \n",
       "231        22  Ross tries to get Rachel to go back to Ralph L...   \n",
       "232        22  The gang throws Rachel a goodbye party, during...   \n",
       "233        30  Erica gives birth to the baby that Monica and ...   \n",
       "234        30  Phoebe races Ross to the airport in a bid to s...   \n",
       "\n",
       "           Director  Stars  Votes  \n",
       "0     James Burrows    8.1   4888  \n",
       "1     James Burrows    8.2   4605  \n",
       "2     James Burrows    8.1   4468  \n",
       "3     Pamela Fryman    8.5   4438  \n",
       "4    Arlene Sanford    8.1   4274  \n",
       "..              ...    ...    ...  \n",
       "230  Gary Halvorson    8.6   2989  \n",
       "231  Gary Halvorson    8.5   2771  \n",
       "232  Gary Halvorson    8.9   3141  \n",
       "233    Kevin Bright    9.5   6221  \n",
       "234    Kevin Bright    9.7  10381  \n",
       "\n",
       "[235 rows x 8 columns]"
      ]
     },
     "execution_count": 10,
     "metadata": {},
     "output_type": "execute_result"
    }
   ],
   "source": [
    "df"
   ]
  },
  {
   "cell_type": "markdown",
   "id": "095943d4",
   "metadata": {},
   "source": [
    "### Replacing the last two values Episode_Title (\"The Last One\")"
   ]
  },
  {
   "cell_type": "code",
   "execution_count": 11,
   "id": "36c56d8a",
   "metadata": {},
   "outputs": [],
   "source": [
    "df['Episode_Title'].replace({'The Last One':'The Last One Part2'},inplace=True)"
   ]
  },
  {
   "cell_type": "code",
   "execution_count": 12,
   "id": "7a8d58c7",
   "metadata": {},
   "outputs": [
    {
     "name": "stderr",
     "output_type": "stream",
     "text": [
      "C:\\Users\\sanke\\Anaconda3\\lib\\site-packages\\pandas\\core\\generic.py:6619: SettingWithCopyWarning: \n",
      "A value is trying to be set on a copy of a slice from a DataFrame\n",
      "\n",
      "See the caveats in the documentation: https://pandas.pydata.org/pandas-docs/stable/user_guide/indexing.html#returning-a-view-versus-a-copy\n",
      "  return self._update_inplace(result)\n"
     ]
    }
   ],
   "source": [
    "z=df[df.Votes==6221]\n",
    "z['Episode_Title'].replace({'The Last One Part2':'The Last One Part1'},inplace=True)\n",
    "df.drop(labels=233,axis=0,inplace=True)\n",
    "df=pd.concat([df, z])\n",
    "df=df.sort_index(ascending=True)"
   ]
  },
  {
   "cell_type": "code",
   "execution_count": 13,
   "id": "70185132",
   "metadata": {},
   "outputs": [
    {
     "data": {
      "text/html": [
       "<div>\n",
       "<style scoped>\n",
       "    .dataframe tbody tr th:only-of-type {\n",
       "        vertical-align: middle;\n",
       "    }\n",
       "\n",
       "    .dataframe tbody tr th {\n",
       "        vertical-align: top;\n",
       "    }\n",
       "\n",
       "    .dataframe thead th {\n",
       "        text-align: right;\n",
       "    }\n",
       "</style>\n",
       "<table border=\"1\" class=\"dataframe\">\n",
       "  <thead>\n",
       "    <tr style=\"text-align: right;\">\n",
       "      <th></th>\n",
       "      <th>Year_of_prod</th>\n",
       "      <th>Season</th>\n",
       "      <th>Episode_Title</th>\n",
       "      <th>Duration</th>\n",
       "      <th>Summary</th>\n",
       "      <th>Director</th>\n",
       "      <th>Stars</th>\n",
       "      <th>Votes</th>\n",
       "    </tr>\n",
       "  </thead>\n",
       "  <tbody>\n",
       "    <tr>\n",
       "      <th>0</th>\n",
       "      <td>1994</td>\n",
       "      <td>1</td>\n",
       "      <td>The One with the Sonogram at the End</td>\n",
       "      <td>22</td>\n",
       "      <td>Ross finds out his ex-wife is pregnant. Rachel...</td>\n",
       "      <td>James Burrows</td>\n",
       "      <td>8.1</td>\n",
       "      <td>4888</td>\n",
       "    </tr>\n",
       "    <tr>\n",
       "      <th>1</th>\n",
       "      <td>1994</td>\n",
       "      <td>1</td>\n",
       "      <td>The One with the Thumb</td>\n",
       "      <td>22</td>\n",
       "      <td>Monica becomes irritated when everyone likes h...</td>\n",
       "      <td>James Burrows</td>\n",
       "      <td>8.2</td>\n",
       "      <td>4605</td>\n",
       "    </tr>\n",
       "    <tr>\n",
       "      <th>2</th>\n",
       "      <td>1994</td>\n",
       "      <td>1</td>\n",
       "      <td>The One with George Stephanopoulos</td>\n",
       "      <td>22</td>\n",
       "      <td>Joey and Chandler take Ross to a hockey game t...</td>\n",
       "      <td>James Burrows</td>\n",
       "      <td>8.1</td>\n",
       "      <td>4468</td>\n",
       "    </tr>\n",
       "    <tr>\n",
       "      <th>3</th>\n",
       "      <td>1994</td>\n",
       "      <td>1</td>\n",
       "      <td>The One with the East German Laundry Detergent</td>\n",
       "      <td>22</td>\n",
       "      <td>Eager to spend time with Rachel, Ross pretends...</td>\n",
       "      <td>Pamela Fryman</td>\n",
       "      <td>8.5</td>\n",
       "      <td>4438</td>\n",
       "    </tr>\n",
       "    <tr>\n",
       "      <th>4</th>\n",
       "      <td>1994</td>\n",
       "      <td>1</td>\n",
       "      <td>The One with the Butt</td>\n",
       "      <td>22</td>\n",
       "      <td>Monica's obsessiveness is put to the test afte...</td>\n",
       "      <td>Arlene Sanford</td>\n",
       "      <td>8.1</td>\n",
       "      <td>4274</td>\n",
       "    </tr>\n",
       "    <tr>\n",
       "      <th>...</th>\n",
       "      <td>...</td>\n",
       "      <td>...</td>\n",
       "      <td>...</td>\n",
       "      <td>...</td>\n",
       "      <td>...</td>\n",
       "      <td>...</td>\n",
       "      <td>...</td>\n",
       "      <td>...</td>\n",
       "    </tr>\n",
       "    <tr>\n",
       "      <th>230</th>\n",
       "      <td>2004</td>\n",
       "      <td>10</td>\n",
       "      <td>The One with Princess Consuela</td>\n",
       "      <td>22</td>\n",
       "      <td>When Phoebe goes to get her name changed she r...</td>\n",
       "      <td>Gary Halvorson</td>\n",
       "      <td>8.6</td>\n",
       "      <td>2989</td>\n",
       "    </tr>\n",
       "    <tr>\n",
       "      <th>231</th>\n",
       "      <td>2004</td>\n",
       "      <td>10</td>\n",
       "      <td>The One Where Estelle Dies</td>\n",
       "      <td>22</td>\n",
       "      <td>Ross tries to get Rachel to go back to Ralph L...</td>\n",
       "      <td>Gary Halvorson</td>\n",
       "      <td>8.5</td>\n",
       "      <td>2771</td>\n",
       "    </tr>\n",
       "    <tr>\n",
       "      <th>232</th>\n",
       "      <td>2004</td>\n",
       "      <td>10</td>\n",
       "      <td>The One with Rachel's Going Away Party</td>\n",
       "      <td>22</td>\n",
       "      <td>The gang throws Rachel a goodbye party, during...</td>\n",
       "      <td>Gary Halvorson</td>\n",
       "      <td>8.9</td>\n",
       "      <td>3141</td>\n",
       "    </tr>\n",
       "    <tr>\n",
       "      <th>233</th>\n",
       "      <td>2004</td>\n",
       "      <td>10</td>\n",
       "      <td>The Last One Part1</td>\n",
       "      <td>30</td>\n",
       "      <td>Erica gives birth to the baby that Monica and ...</td>\n",
       "      <td>Kevin Bright</td>\n",
       "      <td>9.5</td>\n",
       "      <td>6221</td>\n",
       "    </tr>\n",
       "    <tr>\n",
       "      <th>234</th>\n",
       "      <td>2004</td>\n",
       "      <td>10</td>\n",
       "      <td>The Last One Part2</td>\n",
       "      <td>30</td>\n",
       "      <td>Phoebe races Ross to the airport in a bid to s...</td>\n",
       "      <td>Kevin Bright</td>\n",
       "      <td>9.7</td>\n",
       "      <td>10381</td>\n",
       "    </tr>\n",
       "  </tbody>\n",
       "</table>\n",
       "<p>235 rows × 8 columns</p>\n",
       "</div>"
      ],
      "text/plain": [
       "     Year_of_prod  Season                                   Episode_Title  \\\n",
       "0            1994       1            The One with the Sonogram at the End   \n",
       "1            1994       1                          The One with the Thumb   \n",
       "2            1994       1              The One with George Stephanopoulos   \n",
       "3            1994       1  The One with the East German Laundry Detergent   \n",
       "4            1994       1                           The One with the Butt   \n",
       "..            ...     ...                                             ...   \n",
       "230          2004      10                  The One with Princess Consuela   \n",
       "231          2004      10                      The One Where Estelle Dies   \n",
       "232          2004      10          The One with Rachel's Going Away Party   \n",
       "233          2004      10                              The Last One Part1   \n",
       "234          2004      10                              The Last One Part2   \n",
       "\n",
       "     Duration                                            Summary  \\\n",
       "0          22  Ross finds out his ex-wife is pregnant. Rachel...   \n",
       "1          22  Monica becomes irritated when everyone likes h...   \n",
       "2          22  Joey and Chandler take Ross to a hockey game t...   \n",
       "3          22  Eager to spend time with Rachel, Ross pretends...   \n",
       "4          22  Monica's obsessiveness is put to the test afte...   \n",
       "..        ...                                                ...   \n",
       "230        22  When Phoebe goes to get her name changed she r...   \n",
       "231        22  Ross tries to get Rachel to go back to Ralph L...   \n",
       "232        22  The gang throws Rachel a goodbye party, during...   \n",
       "233        30  Erica gives birth to the baby that Monica and ...   \n",
       "234        30  Phoebe races Ross to the airport in a bid to s...   \n",
       "\n",
       "           Director  Stars  Votes  \n",
       "0     James Burrows    8.1   4888  \n",
       "1     James Burrows    8.2   4605  \n",
       "2     James Burrows    8.1   4468  \n",
       "3     Pamela Fryman    8.5   4438  \n",
       "4    Arlene Sanford    8.1   4274  \n",
       "..              ...    ...    ...  \n",
       "230  Gary Halvorson    8.6   2989  \n",
       "231  Gary Halvorson    8.5   2771  \n",
       "232  Gary Halvorson    8.9   3141  \n",
       "233    Kevin Bright    9.5   6221  \n",
       "234    Kevin Bright    9.7  10381  \n",
       "\n",
       "[235 rows x 8 columns]"
      ]
     },
     "execution_count": 13,
     "metadata": {},
     "output_type": "execute_result"
    }
   ],
   "source": [
    "df"
   ]
  },
  {
   "cell_type": "markdown",
   "id": "85ff003b",
   "metadata": {},
   "source": [
    "### Correlation between the variables"
   ]
  },
  {
   "cell_type": "code",
   "execution_count": 14,
   "id": "d27542df",
   "metadata": {},
   "outputs": [
    {
     "data": {
      "text/html": [
       "<div>\n",
       "<style scoped>\n",
       "    .dataframe tbody tr th:only-of-type {\n",
       "        vertical-align: middle;\n",
       "    }\n",
       "\n",
       "    .dataframe tbody tr th {\n",
       "        vertical-align: top;\n",
       "    }\n",
       "\n",
       "    .dataframe thead th {\n",
       "        text-align: right;\n",
       "    }\n",
       "</style>\n",
       "<table border=\"1\" class=\"dataframe\">\n",
       "  <thead>\n",
       "    <tr style=\"text-align: right;\">\n",
       "      <th></th>\n",
       "      <th>Year_of_prod</th>\n",
       "      <th>Season</th>\n",
       "      <th>Duration</th>\n",
       "      <th>Stars</th>\n",
       "      <th>Votes</th>\n",
       "    </tr>\n",
       "  </thead>\n",
       "  <tbody>\n",
       "    <tr>\n",
       "      <th>Year_of_prod</th>\n",
       "      <td>1.000000</td>\n",
       "      <td>0.984721</td>\n",
       "      <td>0.160506</td>\n",
       "      <td>0.068954</td>\n",
       "      <td>-0.348401</td>\n",
       "    </tr>\n",
       "    <tr>\n",
       "      <th>Season</th>\n",
       "      <td>0.984721</td>\n",
       "      <td>1.000000</td>\n",
       "      <td>0.128824</td>\n",
       "      <td>0.068129</td>\n",
       "      <td>-0.348543</td>\n",
       "    </tr>\n",
       "    <tr>\n",
       "      <th>Duration</th>\n",
       "      <td>0.160506</td>\n",
       "      <td>0.128824</td>\n",
       "      <td>1.000000</td>\n",
       "      <td>0.237169</td>\n",
       "      <td>0.255518</td>\n",
       "    </tr>\n",
       "    <tr>\n",
       "      <th>Stars</th>\n",
       "      <td>0.068954</td>\n",
       "      <td>0.068129</td>\n",
       "      <td>0.237169</td>\n",
       "      <td>1.000000</td>\n",
       "      <td>0.557330</td>\n",
       "    </tr>\n",
       "    <tr>\n",
       "      <th>Votes</th>\n",
       "      <td>-0.348401</td>\n",
       "      <td>-0.348543</td>\n",
       "      <td>0.255518</td>\n",
       "      <td>0.557330</td>\n",
       "      <td>1.000000</td>\n",
       "    </tr>\n",
       "  </tbody>\n",
       "</table>\n",
       "</div>"
      ],
      "text/plain": [
       "              Year_of_prod    Season  Duration     Stars     Votes\n",
       "Year_of_prod      1.000000  0.984721  0.160506  0.068954 -0.348401\n",
       "Season            0.984721  1.000000  0.128824  0.068129 -0.348543\n",
       "Duration          0.160506  0.128824  1.000000  0.237169  0.255518\n",
       "Stars             0.068954  0.068129  0.237169  1.000000  0.557330\n",
       "Votes            -0.348401 -0.348543  0.255518  0.557330  1.000000"
      ]
     },
     "execution_count": 14,
     "metadata": {},
     "output_type": "execute_result"
    }
   ],
   "source": [
    "df.corr()"
   ]
  },
  {
   "cell_type": "code",
   "execution_count": 15,
   "id": "737aa365",
   "metadata": {},
   "outputs": [],
   "source": [
    "heatmap=df.drop(['Episode_Title','Summary','Director'],axis=1)"
   ]
  },
  {
   "cell_type": "code",
   "execution_count": 48,
   "id": "04bd05e1",
   "metadata": {},
   "outputs": [
    {
     "data": {
      "text/plain": [
       "<AxesSubplot:>"
      ]
     },
     "execution_count": 48,
     "metadata": {},
     "output_type": "execute_result"
    },
    {
     "data": {
      "image/png": "[encoded data removed]",
      "text/plain": [
       "<Figure size 432x288 with 2 Axes>"
      ]
     },
     "metadata": {
      "needs_background": "light"
     },
     "output_type": "display_data"
    }
   ],
   "source": [
    "sns.heatmap(data=df.corr(),yticklabels=False,linewidths=0,annot=True)"
   ]
  },
  {
   "cell_type": "markdown",
   "id": "30ba592c",
   "metadata": {},
   "source": [
    "## Data Visualisation"
   ]
  },
  {
   "cell_type": "code",
   "execution_count": 17,
   "id": "6c55e355",
   "metadata": {},
   "outputs": [
    {
     "data": {
      "text/plain": [
       "array([ 1,  2,  3,  4,  5,  6,  7,  8,  9, 10], dtype=int64)"
      ]
     },
     "execution_count": 17,
     "metadata": {},
     "output_type": "execute_result"
    }
   ],
   "source": [
    "df.Season.unique()"
   ]
  },
  {
   "cell_type": "markdown",
   "id": "d5e93dac",
   "metadata": {},
   "source": [
    "#### 1.Total of 10 seasons"
   ]
  },
  {
   "cell_type": "code",
   "execution_count": 18,
   "id": "b5133d82",
   "metadata": {},
   "outputs": [
    {
     "data": {
      "text/plain": [
       "235"
      ]
     },
     "execution_count": 18,
     "metadata": {},
     "output_type": "execute_result"
    }
   ],
   "source": [
    "df.Episode_Title.value_counts().sum()\n"
   ]
  },
  {
   "cell_type": "markdown",
   "id": "f7855c40",
   "metadata": {},
   "source": [
    "#### 2.Total of 235 episodes"
   ]
  },
  {
   "cell_type": "code",
   "execution_count": 19,
   "id": "9ff96d68",
   "metadata": {},
   "outputs": [
    {
     "data": {
      "text/plain": [
       "8.459574468085108"
      ]
     },
     "execution_count": 19,
     "metadata": {},
     "output_type": "execute_result"
    }
   ],
   "source": [
    "df.Stars.mean()"
   ]
  },
  {
   "cell_type": "markdown",
   "id": "c8c18ada",
   "metadata": {},
   "source": [
    "#### 3.Average Rating 8.5"
   ]
  },
  {
   "cell_type": "code",
   "execution_count": 20,
   "id": "ec324b58",
   "metadata": {},
   "outputs": [
    {
     "data": {
      "text/plain": [
       "87.5"
      ]
     },
     "execution_count": 20,
     "metadata": {},
     "output_type": "execute_result"
    }
   ],
   "source": [
    "df.Duration.sum()/60"
   ]
  },
  {
   "cell_type": "markdown",
   "id": "c310a4f4",
   "metadata": {},
   "source": [
    "#### 4.Total Duration 87.5 (hours)"
   ]
  },
  {
   "cell_type": "markdown",
   "id": "b47af3ef",
   "metadata": {},
   "source": [
    "## 5.Determine the most viewed episode based on votes/ratings ?"
   ]
  },
  {
   "cell_type": "code",
   "execution_count": 21,
   "id": "5a82b243",
   "metadata": {},
   "outputs": [
    {
     "data": {
      "text/plain": [
       "array([ 2557,  2588,  2601,  2615,  2616,  2635,  2636,  2642,  2643,\n",
       "        2654,  2662,  2670,  2674,  2685,  2688,  2690,  2698,  2699,\n",
       "        2702,  2703,  2705,  2713,  2716,  2733,  2748,  2753,  2758,\n",
       "        2764,  2765,  2766,  2771,  2772,  2785,  2792,  2793,  2799,\n",
       "        2800,  2803,  2804,  2812,  2817,  2819,  2820,  2822,  2825,\n",
       "        2829,  2832,  2844,  2851,  2853,  2856,  2857,  2858,  2860,\n",
       "        2870,  2871,  2883,  2888,  2892,  2894,  2896,  2898,  2902,\n",
       "        2906,  2920,  2936,  2939,  2942,  2949,  2950,  2957,  2959,\n",
       "        2961,  2969,  2971,  2976,  2977,  2980,  2983,  2989,  2995,\n",
       "        2996,  3001,  3005,  3006,  3010,  3011,  3014,  3022,  3025,\n",
       "        3028,  3029,  3037,  3044,  3045,  3052,  3061,  3063,  3065,\n",
       "        3074,  3082,  3096,  3097,  3110,  3113,  3120,  3122,  3125,\n",
       "        3134,  3139,  3141,  3147,  3150,  3154,  3155,  3157,  3161,\n",
       "        3168,  3169,  3174,  3175,  3178,  3180,  3185,  3199,  3210,\n",
       "        3211,  3212,  3213,  3215,  3225,  3238,  3242,  3253,  3258,\n",
       "        3268,  3273,  3277,  3282,  3292,  3294,  3295,  3302,  3324,\n",
       "        3331,  3335,  3337,  3343,  3359,  3360,  3364,  3366,  3369,\n",
       "        3374,  3403,  3407,  3435,  3444,  3450,  3470,  3482,  3495,\n",
       "        3524,  3550,  3555,  3563,  3578,  3581,  3591,  3600,  3609,\n",
       "        3669,  3674,  3676,  3684,  3720,  3723,  3726,  3734,  3736,\n",
       "        3769,  3781,  3814,  3822,  3834,  3864,  3866,  3883,  3913,\n",
       "        3915,  3919,  3926,  3928,  3996,  4038,  4064,  4099,  4114,\n",
       "        4139,  4151,  4156,  4172,  4180,  4186,  4187,  4192,  4217,\n",
       "        4261,  4274,  4291,  4319,  4340,  4438,  4468,  4588,  4605,\n",
       "        4637,  4888,  5291,  5469,  5736,  6006,  6221,  8066, 10381],\n",
       "      dtype=int64)"
      ]
     },
     "execution_count": 21,
     "metadata": {},
     "output_type": "execute_result"
    }
   ],
   "source": [
    "a=df['Votes'].unique()\n",
    "a.sort()\n",
    "a"
   ]
  },
  {
   "cell_type": "markdown",
   "id": "28d31db3",
   "metadata": {},
   "source": [
    "#### To determine the top 5 episodes we can see that the voting range is from 5469-10381"
   ]
  },
  {
   "cell_type": "code",
   "execution_count": 22,
   "id": "825b3edd",
   "metadata": {},
   "outputs": [
    {
     "data": {
      "text/plain": [
       "36           The One with the Prom Video\n",
       "83              The One with the Embryos\n",
       "109    The One Where Everybody Finds Out\n",
       "233                   The Last One Part1\n",
       "234                   The Last One Part2\n",
       "Name: Episode_Title, dtype: object"
      ]
     },
     "execution_count": 22,
     "metadata": {},
     "output_type": "execute_result"
    }
   ],
   "source": [
    "df.Episode_Title[df.Votes>5469]"
   ]
  },
  {
   "cell_type": "code",
   "execution_count": 23,
   "id": "e0e1c594",
   "metadata": {},
   "outputs": [
    {
     "data": {
      "text/plain": [
       "array([7.2, 7.4, 7.5, 7.8, 7.9, 8. , 8.1, 8.2, 8.3, 8.4, 8.5, 8.6, 8.7,\n",
       "       8.8, 8.9, 9. , 9.1, 9.2, 9.3, 9.4, 9.5, 9.7])"
      ]
     },
     "execution_count": 23,
     "metadata": {},
     "output_type": "execute_result"
    }
   ],
   "source": [
    "b=df['Stars'].unique()\n",
    "b.sort()\n",
    "b"
   ]
  },
  {
   "cell_type": "markdown",
   "id": "3477277b",
   "metadata": {},
   "source": [
    "#### To determine the top 5 episodes we can see that the Stars range is from 9.3 - 9.7 "
   ]
  },
  {
   "cell_type": "code",
   "execution_count": 24,
   "id": "4644be91",
   "metadata": {},
   "outputs": [
    {
     "data": {
      "text/plain": [
       "36           The One with the Prom Video\n",
       "83              The One with the Embryos\n",
       "109    The One Where Everybody Finds Out\n",
       "233                   The Last One Part1\n",
       "234                   The Last One Part2\n",
       "Name: Episode_Title, dtype: object"
      ]
     },
     "execution_count": 24,
     "metadata": {},
     "output_type": "execute_result"
    }
   ],
   "source": [
    "df.Episode_Title[df.Stars>9.3]"
   ]
  },
  {
   "cell_type": "markdown",
   "id": "c74546a7",
   "metadata": {},
   "source": [
    "#### The same 5 episodes are topped based on votes and ratings"
   ]
  },
  {
   "cell_type": "code",
   "execution_count": 25,
   "id": "037ee5ce",
   "metadata": {},
   "outputs": [
    {
     "data": {
      "text/html": [
       "<div>\n",
       "<style scoped>\n",
       "    .dataframe tbody tr th:only-of-type {\n",
       "        vertical-align: middle;\n",
       "    }\n",
       "\n",
       "    .dataframe tbody tr th {\n",
       "        vertical-align: top;\n",
       "    }\n",
       "\n",
       "    .dataframe thead th {\n",
       "        text-align: right;\n",
       "    }\n",
       "</style>\n",
       "<table border=\"1\" class=\"dataframe\">\n",
       "  <thead>\n",
       "    <tr style=\"text-align: right;\">\n",
       "      <th></th>\n",
       "      <th>Year_of_prod</th>\n",
       "      <th>Season</th>\n",
       "      <th>Episode_Title</th>\n",
       "      <th>Duration</th>\n",
       "      <th>Summary</th>\n",
       "      <th>Director</th>\n",
       "      <th>Stars</th>\n",
       "      <th>Votes</th>\n",
       "    </tr>\n",
       "  </thead>\n",
       "  <tbody>\n",
       "    <tr>\n",
       "      <th>36</th>\n",
       "      <td>1996</td>\n",
       "      <td>2</td>\n",
       "      <td>The One with the Prom Video</td>\n",
       "      <td>22</td>\n",
       "      <td>The gang watches a home video from the night o...</td>\n",
       "      <td>James Burrows</td>\n",
       "      <td>9.4</td>\n",
       "      <td>5736</td>\n",
       "    </tr>\n",
       "    <tr>\n",
       "      <th>83</th>\n",
       "      <td>1998</td>\n",
       "      <td>4</td>\n",
       "      <td>The One with the Embryos</td>\n",
       "      <td>22</td>\n",
       "      <td>Phoebe's uterus is examined for implantation o...</td>\n",
       "      <td>Kevin Bright</td>\n",
       "      <td>9.5</td>\n",
       "      <td>6006</td>\n",
       "    </tr>\n",
       "    <tr>\n",
       "      <th>109</th>\n",
       "      <td>1999</td>\n",
       "      <td>5</td>\n",
       "      <td>The One Where Everybody Finds Out</td>\n",
       "      <td>22</td>\n",
       "      <td>When Phoebe finds out about Monica and Chandle...</td>\n",
       "      <td>Michael Lembeck</td>\n",
       "      <td>9.7</td>\n",
       "      <td>8066</td>\n",
       "    </tr>\n",
       "    <tr>\n",
       "      <th>233</th>\n",
       "      <td>2004</td>\n",
       "      <td>10</td>\n",
       "      <td>The Last One Part1</td>\n",
       "      <td>30</td>\n",
       "      <td>Erica gives birth to the baby that Monica and ...</td>\n",
       "      <td>Kevin Bright</td>\n",
       "      <td>9.5</td>\n",
       "      <td>6221</td>\n",
       "    </tr>\n",
       "    <tr>\n",
       "      <th>234</th>\n",
       "      <td>2004</td>\n",
       "      <td>10</td>\n",
       "      <td>The Last One Part2</td>\n",
       "      <td>30</td>\n",
       "      <td>Phoebe races Ross to the airport in a bid to s...</td>\n",
       "      <td>Kevin Bright</td>\n",
       "      <td>9.7</td>\n",
       "      <td>10381</td>\n",
       "    </tr>\n",
       "  </tbody>\n",
       "</table>\n",
       "</div>"
      ],
      "text/plain": [
       "     Year_of_prod  Season                      Episode_Title  Duration  \\\n",
       "36           1996       2        The One with the Prom Video        22   \n",
       "83           1998       4           The One with the Embryos        22   \n",
       "109          1999       5  The One Where Everybody Finds Out        22   \n",
       "233          2004      10                 The Last One Part1        30   \n",
       "234          2004      10                 The Last One Part2        30   \n",
       "\n",
       "                                               Summary         Director  \\\n",
       "36   The gang watches a home video from the night o...    James Burrows   \n",
       "83   Phoebe's uterus is examined for implantation o...     Kevin Bright   \n",
       "109  When Phoebe finds out about Monica and Chandle...  Michael Lembeck   \n",
       "233  Erica gives birth to the baby that Monica and ...     Kevin Bright   \n",
       "234  Phoebe races Ross to the airport in a bid to s...     Kevin Bright   \n",
       "\n",
       "     Stars  Votes  \n",
       "36     9.4   5736  \n",
       "83     9.5   6006  \n",
       "109    9.7   8066  \n",
       "233    9.5   6221  \n",
       "234    9.7  10381  "
      ]
     },
     "execution_count": 25,
     "metadata": {},
     "output_type": "execute_result"
    }
   ],
   "source": [
    "filtered_values = [36,83,109,233,234] # We are using the index values\n",
    "most_viewed=(df.loc[filtered_values])\n",
    "most_viewed"
   ]
  },
  {
   "cell_type": "markdown",
   "id": "8595fc5e",
   "metadata": {},
   "source": [
    "### Bar Graph to represent \"The most popular episodes based on Votes\""
   ]
  },
  {
   "cell_type": "code",
   "execution_count": 26,
   "id": "1ed6a700",
   "metadata": {},
   "outputs": [
    {
     "data": {
      "text/plain": [
       "[Text(0, 0.5, '')]"
      ]
     },
     "execution_count": 26,
     "metadata": {},
     "output_type": "execute_result"
    },
    {
     "data": {
      "image/png": "[encoded data removed]",
      "text/plain": [
       "<Figure size 432x288 with 1 Axes>"
      ]
     },
     "metadata": {
      "needs_background": "light"
     },
     "output_type": "display_data"
    }
   ],
   "source": [
    "ax = plt.axes()\n",
    "ax.set_facecolor(\"purple\")\n",
    "sns.barplot(x=\"Votes\", y=\"Episode_Title\", data=most_viewed, hue = \"Stars\" , color=\"r\",ci = 95,orient='h',palette=[\"k\", \"b\", \"r\"])\n",
    "ax.set(ylabel=None)"
   ]
  },
  {
   "cell_type": "markdown",
   "id": "a6203683",
   "metadata": {},
   "source": [
    "##### \"The Last one Part2\" is the most popular episode"
   ]
  },
  {
   "cell_type": "markdown",
   "id": "812280c1",
   "metadata": {},
   "source": [
    "## 6.Top 3 directors based on votes"
   ]
  },
  {
   "cell_type": "code",
   "execution_count": 27,
   "id": "13b329c2",
   "metadata": {},
   "outputs": [
    {
     "data": {
      "text/plain": [
       "array(['James Burrows', 'Pamela Fryman', 'Arlene Sanford', 'Peter Bonerz',\n",
       "       'Paul Lazarus', 'Alan Myerson', 'Michael Lembeck', 'Gail Mancuso',\n",
       "       'Robby Benson', 'Kevin Bright', 'Ellen Gittelsohn',\n",
       "       'Mary Kay Place', 'Thomas Schlamme', 'Steve Zuckerman',\n",
       "       'Terry Hughes', 'Sam Simon', 'Shelley Jensen', 'Gary Halvorson',\n",
       "       'David Steinberg', 'Dana De Vally Piazza', 'Joe Regalbuto',\n",
       "       'Andrew Tsao', 'Todd Holland', 'David Schwimmer', 'Ben Weiss',\n",
       "       'Stephen Prime', 'Sheldon Epps', 'Roger Christiansen'],\n",
       "      dtype=object)"
      ]
     },
     "execution_count": 27,
     "metadata": {},
     "output_type": "execute_result"
    }
   ],
   "source": [
    "df.Director.unique()"
   ]
  },
  {
   "cell_type": "code",
   "execution_count": 28,
   "id": "6d8696e2",
   "metadata": {},
   "outputs": [
    {
     "data": {
      "text/html": [
       "<div>\n",
       "<style scoped>\n",
       "    .dataframe tbody tr th:only-of-type {\n",
       "        vertical-align: middle;\n",
       "    }\n",
       "\n",
       "    .dataframe tbody tr th {\n",
       "        vertical-align: top;\n",
       "    }\n",
       "\n",
       "    .dataframe thead th {\n",
       "        text-align: right;\n",
       "    }\n",
       "</style>\n",
       "<table border=\"1\" class=\"dataframe\">\n",
       "  <thead>\n",
       "    <tr style=\"text-align: right;\">\n",
       "      <th></th>\n",
       "      <th>Votes</th>\n",
       "    </tr>\n",
       "    <tr>\n",
       "      <th>Director</th>\n",
       "      <th></th>\n",
       "    </tr>\n",
       "  </thead>\n",
       "  <tbody>\n",
       "    <tr>\n",
       "      <th>Alan Myerson</th>\n",
       "      <td>8087</td>\n",
       "    </tr>\n",
       "    <tr>\n",
       "      <th>Andrew Tsao</th>\n",
       "      <td>3174</td>\n",
       "    </tr>\n",
       "    <tr>\n",
       "      <th>Arlene Sanford</th>\n",
       "      <td>4274</td>\n",
       "    </tr>\n",
       "    <tr>\n",
       "      <th>Ben Weiss</th>\n",
       "      <td>28402</td>\n",
       "    </tr>\n",
       "    <tr>\n",
       "      <th>Dana De Vally Piazza</th>\n",
       "      <td>9201</td>\n",
       "    </tr>\n",
       "    <tr>\n",
       "      <th>David Schwimmer</th>\n",
       "      <td>29414</td>\n",
       "    </tr>\n",
       "    <tr>\n",
       "      <th>David Steinberg</th>\n",
       "      <td>3210</td>\n",
       "    </tr>\n",
       "    <tr>\n",
       "      <th>Ellen Gittelsohn</th>\n",
       "      <td>3550</td>\n",
       "    </tr>\n",
       "    <tr>\n",
       "      <th>Gail Mancuso</th>\n",
       "      <td>47245</td>\n",
       "    </tr>\n",
       "    <tr>\n",
       "      <th>Gary Halvorson</th>\n",
       "      <td>161571</td>\n",
       "    </tr>\n",
       "    <tr>\n",
       "      <th>James Burrows</th>\n",
       "      <td>60303</td>\n",
       "    </tr>\n",
       "    <tr>\n",
       "      <th>Joe Regalbuto</th>\n",
       "      <td>3781</td>\n",
       "    </tr>\n",
       "    <tr>\n",
       "      <th>Kevin Bright</th>\n",
       "      <td>187764</td>\n",
       "    </tr>\n",
       "    <tr>\n",
       "      <th>Mary Kay Place</th>\n",
       "      <td>3581</td>\n",
       "    </tr>\n",
       "    <tr>\n",
       "      <th>Michael Lembeck</th>\n",
       "      <td>87645</td>\n",
       "    </tr>\n",
       "    <tr>\n",
       "      <th>Pamela Fryman</th>\n",
       "      <td>8038</td>\n",
       "    </tr>\n",
       "    <tr>\n",
       "      <th>Paul Lazarus</th>\n",
       "      <td>3926</td>\n",
       "    </tr>\n",
       "    <tr>\n",
       "      <th>Peter Bonerz</th>\n",
       "      <td>43142</td>\n",
       "    </tr>\n",
       "    <tr>\n",
       "      <th>Robby Benson</th>\n",
       "      <td>19890</td>\n",
       "    </tr>\n",
       "    <tr>\n",
       "      <th>Roger Christiansen</th>\n",
       "      <td>5545</td>\n",
       "    </tr>\n",
       "    <tr>\n",
       "      <th>Sam Simon</th>\n",
       "      <td>3154</td>\n",
       "    </tr>\n",
       "    <tr>\n",
       "      <th>Sheldon Epps</th>\n",
       "      <td>8430</td>\n",
       "    </tr>\n",
       "    <tr>\n",
       "      <th>Shelley Jensen</th>\n",
       "      <td>19598</td>\n",
       "    </tr>\n",
       "    <tr>\n",
       "      <th>Stephen Prime</th>\n",
       "      <td>2819</td>\n",
       "    </tr>\n",
       "    <tr>\n",
       "      <th>Steve Zuckerman</th>\n",
       "      <td>6491</td>\n",
       "    </tr>\n",
       "    <tr>\n",
       "      <th>Terry Hughes</th>\n",
       "      <td>15539</td>\n",
       "    </tr>\n",
       "    <tr>\n",
       "      <th>Thomas Schlamme</th>\n",
       "      <td>7115</td>\n",
       "    </tr>\n",
       "    <tr>\n",
       "      <th>Todd Holland</th>\n",
       "      <td>2898</td>\n",
       "    </tr>\n",
       "  </tbody>\n",
       "</table>\n",
       "</div>"
      ],
      "text/plain": [
       "                       Votes\n",
       "Director                    \n",
       "Alan Myerson            8087\n",
       "Andrew Tsao             3174\n",
       "Arlene Sanford          4274\n",
       "Ben Weiss              28402\n",
       "Dana De Vally Piazza    9201\n",
       "David Schwimmer        29414\n",
       "David Steinberg         3210\n",
       "Ellen Gittelsohn        3550\n",
       "Gail Mancuso           47245\n",
       "Gary Halvorson        161571\n",
       "James Burrows          60303\n",
       "Joe Regalbuto           3781\n",
       "Kevin Bright          187764\n",
       "Mary Kay Place          3581\n",
       "Michael Lembeck        87645\n",
       "Pamela Fryman           8038\n",
       "Paul Lazarus            3926\n",
       "Peter Bonerz           43142\n",
       "Robby Benson           19890\n",
       "Roger Christiansen      5545\n",
       "Sam Simon               3154\n",
       "Sheldon Epps            8430\n",
       "Shelley Jensen         19598\n",
       "Stephen Prime           2819\n",
       "Steve Zuckerman         6491\n",
       "Terry Hughes           15539\n",
       "Thomas Schlamme         7115\n",
       "Todd Holland            2898"
      ]
     },
     "execution_count": 28,
     "metadata": {},
     "output_type": "execute_result"
    }
   ],
   "source": [
    "c=df.groupby('Director')['Votes'].sum()\n",
    "director=pd.DataFrame(data=c)\n",
    "director"
   ]
  },
  {
   "cell_type": "code",
   "execution_count": 29,
   "id": "3df6a9bc",
   "metadata": {},
   "outputs": [
    {
     "data": {
      "text/html": [
       "<div>\n",
       "<style scoped>\n",
       "    .dataframe tbody tr th:only-of-type {\n",
       "        vertical-align: middle;\n",
       "    }\n",
       "\n",
       "    .dataframe tbody tr th {\n",
       "        vertical-align: top;\n",
       "    }\n",
       "\n",
       "    .dataframe thead th {\n",
       "        text-align: right;\n",
       "    }\n",
       "</style>\n",
       "<table border=\"1\" class=\"dataframe\">\n",
       "  <thead>\n",
       "    <tr style=\"text-align: right;\">\n",
       "      <th></th>\n",
       "      <th>Director</th>\n",
       "      <th>Votes</th>\n",
       "    </tr>\n",
       "  </thead>\n",
       "  <tbody>\n",
       "    <tr>\n",
       "      <th>0</th>\n",
       "      <td>Alan Myerson</td>\n",
       "      <td>8087</td>\n",
       "    </tr>\n",
       "    <tr>\n",
       "      <th>1</th>\n",
       "      <td>Andrew Tsao</td>\n",
       "      <td>3174</td>\n",
       "    </tr>\n",
       "    <tr>\n",
       "      <th>2</th>\n",
       "      <td>Arlene Sanford</td>\n",
       "      <td>4274</td>\n",
       "    </tr>\n",
       "    <tr>\n",
       "      <th>3</th>\n",
       "      <td>Ben Weiss</td>\n",
       "      <td>28402</td>\n",
       "    </tr>\n",
       "    <tr>\n",
       "      <th>4</th>\n",
       "      <td>Dana De Vally Piazza</td>\n",
       "      <td>9201</td>\n",
       "    </tr>\n",
       "    <tr>\n",
       "      <th>5</th>\n",
       "      <td>David Schwimmer</td>\n",
       "      <td>29414</td>\n",
       "    </tr>\n",
       "    <tr>\n",
       "      <th>6</th>\n",
       "      <td>David Steinberg</td>\n",
       "      <td>3210</td>\n",
       "    </tr>\n",
       "    <tr>\n",
       "      <th>7</th>\n",
       "      <td>Ellen Gittelsohn</td>\n",
       "      <td>3550</td>\n",
       "    </tr>\n",
       "    <tr>\n",
       "      <th>8</th>\n",
       "      <td>Gail Mancuso</td>\n",
       "      <td>47245</td>\n",
       "    </tr>\n",
       "    <tr>\n",
       "      <th>9</th>\n",
       "      <td>Gary Halvorson</td>\n",
       "      <td>161571</td>\n",
       "    </tr>\n",
       "    <tr>\n",
       "      <th>10</th>\n",
       "      <td>James Burrows</td>\n",
       "      <td>60303</td>\n",
       "    </tr>\n",
       "    <tr>\n",
       "      <th>11</th>\n",
       "      <td>Joe Regalbuto</td>\n",
       "      <td>3781</td>\n",
       "    </tr>\n",
       "    <tr>\n",
       "      <th>12</th>\n",
       "      <td>Kevin Bright</td>\n",
       "      <td>187764</td>\n",
       "    </tr>\n",
       "    <tr>\n",
       "      <th>13</th>\n",
       "      <td>Mary Kay Place</td>\n",
       "      <td>3581</td>\n",
       "    </tr>\n",
       "    <tr>\n",
       "      <th>14</th>\n",
       "      <td>Michael Lembeck</td>\n",
       "      <td>87645</td>\n",
       "    </tr>\n",
       "    <tr>\n",
       "      <th>15</th>\n",
       "      <td>Pamela Fryman</td>\n",
       "      <td>8038</td>\n",
       "    </tr>\n",
       "    <tr>\n",
       "      <th>16</th>\n",
       "      <td>Paul Lazarus</td>\n",
       "      <td>3926</td>\n",
       "    </tr>\n",
       "    <tr>\n",
       "      <th>17</th>\n",
       "      <td>Peter Bonerz</td>\n",
       "      <td>43142</td>\n",
       "    </tr>\n",
       "    <tr>\n",
       "      <th>18</th>\n",
       "      <td>Robby Benson</td>\n",
       "      <td>19890</td>\n",
       "    </tr>\n",
       "    <tr>\n",
       "      <th>19</th>\n",
       "      <td>Roger Christiansen</td>\n",
       "      <td>5545</td>\n",
       "    </tr>\n",
       "    <tr>\n",
       "      <th>20</th>\n",
       "      <td>Sam Simon</td>\n",
       "      <td>3154</td>\n",
       "    </tr>\n",
       "    <tr>\n",
       "      <th>21</th>\n",
       "      <td>Sheldon Epps</td>\n",
       "      <td>8430</td>\n",
       "    </tr>\n",
       "    <tr>\n",
       "      <th>22</th>\n",
       "      <td>Shelley Jensen</td>\n",
       "      <td>19598</td>\n",
       "    </tr>\n",
       "    <tr>\n",
       "      <th>23</th>\n",
       "      <td>Stephen Prime</td>\n",
       "      <td>2819</td>\n",
       "    </tr>\n",
       "    <tr>\n",
       "      <th>24</th>\n",
       "      <td>Steve Zuckerman</td>\n",
       "      <td>6491</td>\n",
       "    </tr>\n",
       "    <tr>\n",
       "      <th>25</th>\n",
       "      <td>Terry Hughes</td>\n",
       "      <td>15539</td>\n",
       "    </tr>\n",
       "    <tr>\n",
       "      <th>26</th>\n",
       "      <td>Thomas Schlamme</td>\n",
       "      <td>7115</td>\n",
       "    </tr>\n",
       "    <tr>\n",
       "      <th>27</th>\n",
       "      <td>Todd Holland</td>\n",
       "      <td>2898</td>\n",
       "    </tr>\n",
       "  </tbody>\n",
       "</table>\n",
       "</div>"
      ],
      "text/plain": [
       "                Director   Votes\n",
       "0           Alan Myerson    8087\n",
       "1            Andrew Tsao    3174\n",
       "2         Arlene Sanford    4274\n",
       "3              Ben Weiss   28402\n",
       "4   Dana De Vally Piazza    9201\n",
       "5        David Schwimmer   29414\n",
       "6        David Steinberg    3210\n",
       "7       Ellen Gittelsohn    3550\n",
       "8           Gail Mancuso   47245\n",
       "9         Gary Halvorson  161571\n",
       "10         James Burrows   60303\n",
       "11         Joe Regalbuto    3781\n",
       "12          Kevin Bright  187764\n",
       "13        Mary Kay Place    3581\n",
       "14       Michael Lembeck   87645\n",
       "15         Pamela Fryman    8038\n",
       "16          Paul Lazarus    3926\n",
       "17          Peter Bonerz   43142\n",
       "18          Robby Benson   19890\n",
       "19    Roger Christiansen    5545\n",
       "20             Sam Simon    3154\n",
       "21          Sheldon Epps    8430\n",
       "22        Shelley Jensen   19598\n",
       "23         Stephen Prime    2819\n",
       "24       Steve Zuckerman    6491\n",
       "25          Terry Hughes   15539\n",
       "26       Thomas Schlamme    7115\n",
       "27          Todd Holland    2898"
      ]
     },
     "execution_count": 29,
     "metadata": {},
     "output_type": "execute_result"
    }
   ],
   "source": [
    "director=director.reset_index()\n",
    "director"
   ]
  },
  {
   "cell_type": "code",
   "execution_count": 30,
   "id": "fb35bbbe",
   "metadata": {},
   "outputs": [
    {
     "data": {
      "text/plain": [
       "<seaborn.axisgrid.FacetGrid at 0x28637d66d00>"
      ]
     },
     "execution_count": 30,
     "metadata": {},
     "output_type": "execute_result"
    },
    {
     "data": {
      "image/png": "[encoded data removed]",
      "text/plain": [
       "<Figure size 2520x360 with 1 Axes>"
      ]
     },
     "metadata": {
      "needs_background": "light"
     },
     "output_type": "display_data"
    }
   ],
   "source": [
    "sns.catplot(x=\"Director\", y=\"Votes\",kind=\"bar\", data=director,aspect=7)"
   ]
  },
  {
   "cell_type": "code",
   "execution_count": 31,
   "id": "be1559a5",
   "metadata": {},
   "outputs": [
    {
     "data": {
      "text/html": [
       "<div>\n",
       "<style scoped>\n",
       "    .dataframe tbody tr th:only-of-type {\n",
       "        vertical-align: middle;\n",
       "    }\n",
       "\n",
       "    .dataframe tbody tr th {\n",
       "        vertical-align: top;\n",
       "    }\n",
       "\n",
       "    .dataframe thead th {\n",
       "        text-align: right;\n",
       "    }\n",
       "</style>\n",
       "<table border=\"1\" class=\"dataframe\">\n",
       "  <thead>\n",
       "    <tr style=\"text-align: right;\">\n",
       "      <th></th>\n",
       "      <th>Director</th>\n",
       "      <th>Votes</th>\n",
       "    </tr>\n",
       "  </thead>\n",
       "  <tbody>\n",
       "    <tr>\n",
       "      <th>23</th>\n",
       "      <td>Stephen Prime</td>\n",
       "      <td>2819</td>\n",
       "    </tr>\n",
       "    <tr>\n",
       "      <th>27</th>\n",
       "      <td>Todd Holland</td>\n",
       "      <td>2898</td>\n",
       "    </tr>\n",
       "    <tr>\n",
       "      <th>20</th>\n",
       "      <td>Sam Simon</td>\n",
       "      <td>3154</td>\n",
       "    </tr>\n",
       "    <tr>\n",
       "      <th>1</th>\n",
       "      <td>Andrew Tsao</td>\n",
       "      <td>3174</td>\n",
       "    </tr>\n",
       "    <tr>\n",
       "      <th>6</th>\n",
       "      <td>David Steinberg</td>\n",
       "      <td>3210</td>\n",
       "    </tr>\n",
       "    <tr>\n",
       "      <th>7</th>\n",
       "      <td>Ellen Gittelsohn</td>\n",
       "      <td>3550</td>\n",
       "    </tr>\n",
       "    <tr>\n",
       "      <th>13</th>\n",
       "      <td>Mary Kay Place</td>\n",
       "      <td>3581</td>\n",
       "    </tr>\n",
       "    <tr>\n",
       "      <th>11</th>\n",
       "      <td>Joe Regalbuto</td>\n",
       "      <td>3781</td>\n",
       "    </tr>\n",
       "    <tr>\n",
       "      <th>16</th>\n",
       "      <td>Paul Lazarus</td>\n",
       "      <td>3926</td>\n",
       "    </tr>\n",
       "    <tr>\n",
       "      <th>2</th>\n",
       "      <td>Arlene Sanford</td>\n",
       "      <td>4274</td>\n",
       "    </tr>\n",
       "    <tr>\n",
       "      <th>19</th>\n",
       "      <td>Roger Christiansen</td>\n",
       "      <td>5545</td>\n",
       "    </tr>\n",
       "    <tr>\n",
       "      <th>24</th>\n",
       "      <td>Steve Zuckerman</td>\n",
       "      <td>6491</td>\n",
       "    </tr>\n",
       "    <tr>\n",
       "      <th>26</th>\n",
       "      <td>Thomas Schlamme</td>\n",
       "      <td>7115</td>\n",
       "    </tr>\n",
       "    <tr>\n",
       "      <th>15</th>\n",
       "      <td>Pamela Fryman</td>\n",
       "      <td>8038</td>\n",
       "    </tr>\n",
       "    <tr>\n",
       "      <th>0</th>\n",
       "      <td>Alan Myerson</td>\n",
       "      <td>8087</td>\n",
       "    </tr>\n",
       "    <tr>\n",
       "      <th>21</th>\n",
       "      <td>Sheldon Epps</td>\n",
       "      <td>8430</td>\n",
       "    </tr>\n",
       "    <tr>\n",
       "      <th>4</th>\n",
       "      <td>Dana De Vally Piazza</td>\n",
       "      <td>9201</td>\n",
       "    </tr>\n",
       "    <tr>\n",
       "      <th>25</th>\n",
       "      <td>Terry Hughes</td>\n",
       "      <td>15539</td>\n",
       "    </tr>\n",
       "    <tr>\n",
       "      <th>22</th>\n",
       "      <td>Shelley Jensen</td>\n",
       "      <td>19598</td>\n",
       "    </tr>\n",
       "    <tr>\n",
       "      <th>18</th>\n",
       "      <td>Robby Benson</td>\n",
       "      <td>19890</td>\n",
       "    </tr>\n",
       "    <tr>\n",
       "      <th>3</th>\n",
       "      <td>Ben Weiss</td>\n",
       "      <td>28402</td>\n",
       "    </tr>\n",
       "    <tr>\n",
       "      <th>5</th>\n",
       "      <td>David Schwimmer</td>\n",
       "      <td>29414</td>\n",
       "    </tr>\n",
       "    <tr>\n",
       "      <th>17</th>\n",
       "      <td>Peter Bonerz</td>\n",
       "      <td>43142</td>\n",
       "    </tr>\n",
       "    <tr>\n",
       "      <th>8</th>\n",
       "      <td>Gail Mancuso</td>\n",
       "      <td>47245</td>\n",
       "    </tr>\n",
       "    <tr>\n",
       "      <th>10</th>\n",
       "      <td>James Burrows</td>\n",
       "      <td>60303</td>\n",
       "    </tr>\n",
       "    <tr>\n",
       "      <th>14</th>\n",
       "      <td>Michael Lembeck</td>\n",
       "      <td>87645</td>\n",
       "    </tr>\n",
       "    <tr>\n",
       "      <th>9</th>\n",
       "      <td>Gary Halvorson</td>\n",
       "      <td>161571</td>\n",
       "    </tr>\n",
       "    <tr>\n",
       "      <th>12</th>\n",
       "      <td>Kevin Bright</td>\n",
       "      <td>187764</td>\n",
       "    </tr>\n",
       "  </tbody>\n",
       "</table>\n",
       "</div>"
      ],
      "text/plain": [
       "                Director   Votes\n",
       "23         Stephen Prime    2819\n",
       "27          Todd Holland    2898\n",
       "20             Sam Simon    3154\n",
       "1            Andrew Tsao    3174\n",
       "6        David Steinberg    3210\n",
       "7       Ellen Gittelsohn    3550\n",
       "13        Mary Kay Place    3581\n",
       "11         Joe Regalbuto    3781\n",
       "16          Paul Lazarus    3926\n",
       "2         Arlene Sanford    4274\n",
       "19    Roger Christiansen    5545\n",
       "24       Steve Zuckerman    6491\n",
       "26       Thomas Schlamme    7115\n",
       "15         Pamela Fryman    8038\n",
       "0           Alan Myerson    8087\n",
       "21          Sheldon Epps    8430\n",
       "4   Dana De Vally Piazza    9201\n",
       "25          Terry Hughes   15539\n",
       "22        Shelley Jensen   19598\n",
       "18          Robby Benson   19890\n",
       "3              Ben Weiss   28402\n",
       "5        David Schwimmer   29414\n",
       "17          Peter Bonerz   43142\n",
       "8           Gail Mancuso   47245\n",
       "10         James Burrows   60303\n",
       "14       Michael Lembeck   87645\n",
       "9         Gary Halvorson  161571\n",
       "12          Kevin Bright  187764"
      ]
     },
     "execution_count": 31,
     "metadata": {},
     "output_type": "execute_result"
    }
   ],
   "source": [
    "director.sort_values('Votes')"
   ]
  },
  {
   "cell_type": "markdown",
   "id": "a6c7ffd3",
   "metadata": {},
   "source": [
    "#### The voting range is between 60303 - 187764 for top 3 directors"
   ]
  },
  {
   "cell_type": "code",
   "execution_count": 32,
   "id": "b43bfa90",
   "metadata": {},
   "outputs": [
    {
     "data": {
      "text/html": [
       "<div>\n",
       "<style scoped>\n",
       "    .dataframe tbody tr th:only-of-type {\n",
       "        vertical-align: middle;\n",
       "    }\n",
       "\n",
       "    .dataframe tbody tr th {\n",
       "        vertical-align: top;\n",
       "    }\n",
       "\n",
       "    .dataframe thead th {\n",
       "        text-align: right;\n",
       "    }\n",
       "</style>\n",
       "<table border=\"1\" class=\"dataframe\">\n",
       "  <thead>\n",
       "    <tr style=\"text-align: right;\">\n",
       "      <th></th>\n",
       "      <th>Director</th>\n",
       "      <th>Votes</th>\n",
       "    </tr>\n",
       "  </thead>\n",
       "  <tbody>\n",
       "    <tr>\n",
       "      <th>9</th>\n",
       "      <td>Gary Halvorson</td>\n",
       "      <td>161571</td>\n",
       "    </tr>\n",
       "    <tr>\n",
       "      <th>12</th>\n",
       "      <td>Kevin Bright</td>\n",
       "      <td>187764</td>\n",
       "    </tr>\n",
       "    <tr>\n",
       "      <th>14</th>\n",
       "      <td>Michael Lembeck</td>\n",
       "      <td>87645</td>\n",
       "    </tr>\n",
       "  </tbody>\n",
       "</table>\n",
       "</div>"
      ],
      "text/plain": [
       "           Director   Votes\n",
       "9    Gary Halvorson  161571\n",
       "12     Kevin Bright  187764\n",
       "14  Michael Lembeck   87645"
      ]
     },
     "execution_count": 32,
     "metadata": {},
     "output_type": "execute_result"
    }
   ],
   "source": [
    "d=director[director.Votes>60303]\n",
    "d"
   ]
  },
  {
   "cell_type": "markdown",
   "id": "70ed8d98",
   "metadata": {},
   "source": [
    "### Bar graph for top 3 directors"
   ]
  },
  {
   "cell_type": "code",
   "execution_count": 33,
   "id": "ba2ae2da",
   "metadata": {},
   "outputs": [
    {
     "data": {
      "text/plain": [
       "<AxesSubplot:xlabel='Director', ylabel='Votes'>"
      ]
     },
     "execution_count": 33,
     "metadata": {},
     "output_type": "execute_result"
    },
    {
     "data": {
      "image/png": "[encoded data removed]",
      "text/plain": [
       "<Figure size 432x288 with 1 Axes>"
      ]
     },
     "metadata": {
      "needs_background": "light"
     },
     "output_type": "display_data"
    }
   ],
   "source": [
    "ax = plt.axes()\n",
    "ax.set_facecolor(\"black\")\n",
    "sns.barplot(x=\"Director\", y=\"Votes\", data=d , color=\"r\",ci = 95,palette=[\"g\", \"b\", \"r\"],orient='v')"
   ]
  },
  {
   "cell_type": "markdown",
   "id": "b7db731a",
   "metadata": {},
   "source": [
    "##### \"Kevin Bright\" is the most popular director based on votes"
   ]
  },
  {
   "cell_type": "markdown",
   "id": "fa863391",
   "metadata": {},
   "source": [
    "## 7.Relationship between Seasons and ratings"
   ]
  },
  {
   "cell_type": "code",
   "execution_count": 34,
   "id": "44b2c130",
   "metadata": {},
   "outputs": [
    {
     "data": {
      "text/plain": [
       "<seaborn.axisgrid.FacetGrid at 0x28639004190>"
      ]
     },
     "execution_count": 34,
     "metadata": {},
     "output_type": "execute_result"
    },
    {
     "data": {
      "image/png": "[encoded data removed]",
      "text/plain": [
       "<Figure size 900x360 with 1 Axes>"
      ]
     },
     "metadata": {
      "needs_background": "light"
     },
     "output_type": "display_data"
    }
   ],
   "source": [
    "sns.catplot(x=\"Season\", y=\"Stars\",kind=\"bar\",data=df,aspect=2.5)\n"
   ]
  },
  {
   "cell_type": "code",
   "execution_count": 35,
   "id": "5a0ce830",
   "metadata": {},
   "outputs": [
    {
     "data": {
      "text/html": [
       "<div>\n",
       "<style scoped>\n",
       "    .dataframe tbody tr th:only-of-type {\n",
       "        vertical-align: middle;\n",
       "    }\n",
       "\n",
       "    .dataframe tbody tr th {\n",
       "        vertical-align: top;\n",
       "    }\n",
       "\n",
       "    .dataframe thead th {\n",
       "        text-align: right;\n",
       "    }\n",
       "</style>\n",
       "<table border=\"1\" class=\"dataframe\">\n",
       "  <thead>\n",
       "    <tr style=\"text-align: right;\">\n",
       "      <th></th>\n",
       "      <th>Year_of_prod</th>\n",
       "      <th>Season</th>\n",
       "      <th>Duration</th>\n",
       "      <th>Stars</th>\n",
       "      <th>Votes</th>\n",
       "    </tr>\n",
       "  </thead>\n",
       "  <tbody>\n",
       "    <tr>\n",
       "      <th>Year_of_prod</th>\n",
       "      <td>1.000000</td>\n",
       "      <td>0.984721</td>\n",
       "      <td>0.160506</td>\n",
       "      <td>0.068954</td>\n",
       "      <td>-0.348401</td>\n",
       "    </tr>\n",
       "    <tr>\n",
       "      <th>Season</th>\n",
       "      <td>0.984721</td>\n",
       "      <td>1.000000</td>\n",
       "      <td>0.128824</td>\n",
       "      <td>0.068129</td>\n",
       "      <td>-0.348543</td>\n",
       "    </tr>\n",
       "    <tr>\n",
       "      <th>Duration</th>\n",
       "      <td>0.160506</td>\n",
       "      <td>0.128824</td>\n",
       "      <td>1.000000</td>\n",
       "      <td>0.237169</td>\n",
       "      <td>0.255518</td>\n",
       "    </tr>\n",
       "    <tr>\n",
       "      <th>Stars</th>\n",
       "      <td>0.068954</td>\n",
       "      <td>0.068129</td>\n",
       "      <td>0.237169</td>\n",
       "      <td>1.000000</td>\n",
       "      <td>0.557330</td>\n",
       "    </tr>\n",
       "    <tr>\n",
       "      <th>Votes</th>\n",
       "      <td>-0.348401</td>\n",
       "      <td>-0.348543</td>\n",
       "      <td>0.255518</td>\n",
       "      <td>0.557330</td>\n",
       "      <td>1.000000</td>\n",
       "    </tr>\n",
       "  </tbody>\n",
       "</table>\n",
       "</div>"
      ],
      "text/plain": [
       "              Year_of_prod    Season  Duration     Stars     Votes\n",
       "Year_of_prod      1.000000  0.984721  0.160506  0.068954 -0.348401\n",
       "Season            0.984721  1.000000  0.128824  0.068129 -0.348543\n",
       "Duration          0.160506  0.128824  1.000000  0.237169  0.255518\n",
       "Stars             0.068954  0.068129  0.237169  1.000000  0.557330\n",
       "Votes            -0.348401 -0.348543  0.255518  0.557330  1.000000"
      ]
     },
     "execution_count": 35,
     "metadata": {},
     "output_type": "execute_result"
    }
   ],
   "source": [
    "df.corr()"
   ]
  },
  {
   "cell_type": "markdown",
   "id": "e2f4ad27",
   "metadata": {},
   "source": [
    "#### There is a very small positive correlation between Season and Stars \n",
    "#### All the seasons are rated above avg rating of 8"
   ]
  },
  {
   "cell_type": "code",
   "execution_count": 36,
   "id": "5ef4b512",
   "metadata": {},
   "outputs": [
    {
     "data": {
      "text/plain": [
       "<seaborn.axisgrid.FacetGrid at 0x28639377970>"
      ]
     },
     "execution_count": 36,
     "metadata": {},
     "output_type": "execute_result"
    },
    {
     "data": {
      "image/png": "[encoded data removed]",
      "text/plain": [
       "<Figure size 900x360 with 1 Axes>"
      ]
     },
     "metadata": {
      "needs_background": "light"
     },
     "output_type": "display_data"
    }
   ],
   "source": [
    "sns.catplot(x=\"Season\", y=\"Stars\",kind=\"violin\",split=True,data=df,aspect=2.5)"
   ]
  },
  {
   "cell_type": "markdown",
   "id": "983dbbd7",
   "metadata": {},
   "source": [
    "## 8.Visualisation of seasons based on votes"
   ]
  },
  {
   "cell_type": "code",
   "execution_count": 37,
   "id": "ef0a3ee6",
   "metadata": {},
   "outputs": [
    {
     "data": {
      "text/plain": [
       "array([ 1,  2,  3,  4,  5,  6,  7,  8,  9, 10], dtype=int64)"
      ]
     },
     "execution_count": 37,
     "metadata": {},
     "output_type": "execute_result"
    }
   ],
   "source": [
    "df.Season.unique()"
   ]
  },
  {
   "cell_type": "code",
   "execution_count": 38,
   "id": "4ca8c571",
   "metadata": {},
   "outputs": [],
   "source": [
    "e=df.groupby('Season')['Votes'].sum()\n",
    "pie=pd.DataFrame(e)\n",
    "pie=pie.reset_index()"
   ]
  },
  {
   "cell_type": "code",
   "execution_count": 39,
   "id": "04897522",
   "metadata": {},
   "outputs": [
    {
     "data": {
      "text/html": [
       "<div>\n",
       "<style scoped>\n",
       "    .dataframe tbody tr th:only-of-type {\n",
       "        vertical-align: middle;\n",
       "    }\n",
       "\n",
       "    .dataframe tbody tr th {\n",
       "        vertical-align: top;\n",
       "    }\n",
       "\n",
       "    .dataframe thead th {\n",
       "        text-align: right;\n",
       "    }\n",
       "</style>\n",
       "<table border=\"1\" class=\"dataframe\">\n",
       "  <thead>\n",
       "    <tr style=\"text-align: right;\">\n",
       "      <th></th>\n",
       "      <th>Season</th>\n",
       "      <th>Votes</th>\n",
       "    </tr>\n",
       "  </thead>\n",
       "  <tbody>\n",
       "    <tr>\n",
       "      <th>0</th>\n",
       "      <td>1</td>\n",
       "      <td>95397</td>\n",
       "    </tr>\n",
       "    <tr>\n",
       "      <th>1</th>\n",
       "      <td>2</td>\n",
       "      <td>89014</td>\n",
       "    </tr>\n",
       "    <tr>\n",
       "      <th>2</th>\n",
       "      <td>3</td>\n",
       "      <td>86462</td>\n",
       "    </tr>\n",
       "    <tr>\n",
       "      <th>3</th>\n",
       "      <td>4</td>\n",
       "      <td>81441</td>\n",
       "    </tr>\n",
       "    <tr>\n",
       "      <th>4</th>\n",
       "      <td>5</td>\n",
       "      <td>82942</td>\n",
       "    </tr>\n",
       "    <tr>\n",
       "      <th>5</th>\n",
       "      <td>6</td>\n",
       "      <td>78827</td>\n",
       "    </tr>\n",
       "    <tr>\n",
       "      <th>6</th>\n",
       "      <td>7</td>\n",
       "      <td>70577</td>\n",
       "    </tr>\n",
       "    <tr>\n",
       "      <th>7</th>\n",
       "      <td>8</td>\n",
       "      <td>71609</td>\n",
       "    </tr>\n",
       "    <tr>\n",
       "      <th>8</th>\n",
       "      <td>9</td>\n",
       "      <td>66254</td>\n",
       "    </tr>\n",
       "    <tr>\n",
       "      <th>9</th>\n",
       "      <td>10</td>\n",
       "      <td>65264</td>\n",
       "    </tr>\n",
       "  </tbody>\n",
       "</table>\n",
       "</div>"
      ],
      "text/plain": [
       "   Season  Votes\n",
       "0       1  95397\n",
       "1       2  89014\n",
       "2       3  86462\n",
       "3       4  81441\n",
       "4       5  82942\n",
       "5       6  78827\n",
       "6       7  70577\n",
       "7       8  71609\n",
       "8       9  66254\n",
       "9      10  65264"
      ]
     },
     "execution_count": 39,
     "metadata": {},
     "output_type": "execute_result"
    }
   ],
   "source": [
    "pie"
   ]
  },
  {
   "cell_type": "code",
   "execution_count": 40,
   "id": "4c337f52",
   "metadata": {},
   "outputs": [
    {
     "data": {
      "text/plain": [
       "787787"
      ]
     },
     "execution_count": 40,
     "metadata": {},
     "output_type": "execute_result"
    }
   ],
   "source": [
    "pie.Votes.sum()"
   ]
  },
  {
   "cell_type": "code",
   "execution_count": 41,
   "id": "203e88ae",
   "metadata": {},
   "outputs": [
    {
     "data": {
      "text/plain": [
       "([<matplotlib.patches.Wedge at 0x28639d00910>,\n",
       "  <matplotlib.patches.Wedge at 0x28639d113a0>,\n",
       "  <matplotlib.patches.Wedge at 0x28639d11cd0>,\n",
       "  <matplotlib.patches.Wedge at 0x28639d1f580>,\n",
       "  <matplotlib.patches.Wedge at 0x28639d1ff10>,\n",
       "  <matplotlib.patches.Wedge at 0x28639d2c8e0>,\n",
       "  <matplotlib.patches.Wedge at 0x28639d3a2b0>,\n",
       "  <matplotlib.patches.Wedge at 0x28639d3ac40>,\n",
       "  <matplotlib.patches.Wedge at 0x28639d48610>,\n",
       "  <matplotlib.patches.Wedge at 0x28639d48fa0>],\n",
       " [Text(1.1980429248352709, 0.06850657086842288, 'S1'),\n",
       "  Text(1.3636166860133876, 0.3170954645305831, 'S2'),\n",
       "  Text(1.131969906920954, 0.6392527902366694, 'S3'),\n",
       "  Text(0.8549070505983483, 1.1086631295561487, 'S4'),\n",
       "  Text(0.156546339476946, 1.0888035835706864, 'S5'),\n",
       "  Text(-0.6066675126090453, 1.1497628142989988, 'S6'),\n",
       "  Text(-1.1302132313047122, 0.4032592860477751, 'S7'),\n",
       "  Text(-1.1319699218837451, -0.6392527637410013, 'S8'),\n",
       "  Text(-0.09413258651866149, -1.0959648973189364, 'S9'),\n",
       "  Text(1.1777548887878142, -0.7568972334051721, 'S10')],\n",
       " [Text(0.6988583728205745, 0.03996216633991335, '1%'),\n",
       "  Text(0.876610726722892, 0.20384708434108914, '3%'),\n",
       "  Text(0.69659686579751, 0.3933863324533349, '4%'),\n",
       "  Text(0.549583103956081, 0.7127120118575241, '6%'),\n",
       "  Text(0.08538891244197054, 0.593892863765829, '7%'),\n",
       "  Text(-0.37333385391325863, 0.7075463472609224, '9%'),\n",
       "  Text(-0.6592910515944154, 0.2352345835278688, '10%'),\n",
       "  Text(-0.6965968750053815, -0.39338631614830843, '11%'),\n",
       "  Text(-0.05134504719199717, -0.597799034901238, '13%'),\n",
       "  Text(0.7571281427921662, -0.4865767929033249, '14%')])"
      ]
     },
     "execution_count": 41,
     "metadata": {},
     "output_type": "execute_result"
    },
    {
     "data": {
      "image/png": "[encoded data removed]",
      "text/plain": [
       "<Figure size 432x288 with 1 Axes>"
      ]
     },
     "metadata": {},
     "output_type": "display_data"
    }
   ],
   "source": [
    "total=787787\n",
    "explode = (0.1, 0.3, 0.2, 0.3, 0.0, 0.2,0.1,0.2,0.0,0.3)\n",
    "Season=['S1','S2','S3','S4','S5','S6','S7','S8','S9','S10']\n",
    "plt.pie(x='Season',data=pie,explode=explode,labels=Season,shadow=True,startangle = 0,autopct=lambda p: '{:.0f}%'.format(p * total / 1000000))"
   ]
  },
  {
   "cell_type": "markdown",
   "id": "c3b7149f",
   "metadata": {},
   "source": [
    "## 9.Determine the duration of each season?"
   ]
  },
  {
   "cell_type": "code",
   "execution_count": 42,
   "id": "2fe295b3",
   "metadata": {},
   "outputs": [
    {
     "name": "stderr",
     "output_type": "stream",
     "text": [
      "C:\\Users\\sanke\\Anaconda3\\lib\\site-packages\\seaborn\\categorical.py:1296: UserWarning: 78.3% of the points cannot be placed; you may want to decrease the size of the markers or use stripplot.\n",
      "  warnings.warn(msg, UserWarning)\n",
      "C:\\Users\\sanke\\Anaconda3\\lib\\site-packages\\seaborn\\categorical.py:1296: UserWarning: 79.2% of the points cannot be placed; you may want to decrease the size of the markers or use stripplot.\n",
      "  warnings.warn(msg, UserWarning)\n",
      "C:\\Users\\sanke\\Anaconda3\\lib\\site-packages\\seaborn\\categorical.py:1296: UserWarning: 80.0% of the points cannot be placed; you may want to decrease the size of the markers or use stripplot.\n",
      "  warnings.warn(msg, UserWarning)\n",
      "C:\\Users\\sanke\\Anaconda3\\lib\\site-packages\\seaborn\\categorical.py:1296: UserWarning: 70.8% of the points cannot be placed; you may want to decrease the size of the markers or use stripplot.\n",
      "  warnings.warn(msg, UserWarning)\n",
      "C:\\Users\\sanke\\Anaconda3\\lib\\site-packages\\seaborn\\categorical.py:1296: UserWarning: 64.0% of the points cannot be placed; you may want to decrease the size of the markers or use stripplot.\n",
      "  warnings.warn(msg, UserWarning)\n",
      "C:\\Users\\sanke\\Anaconda3\\lib\\site-packages\\seaborn\\categorical.py:1296: UserWarning: 54.2% of the points cannot be placed; you may want to decrease the size of the markers or use stripplot.\n",
      "  warnings.warn(msg, UserWarning)\n",
      "C:\\Users\\sanke\\Anaconda3\\lib\\site-packages\\seaborn\\categorical.py:1296: UserWarning: 61.1% of the points cannot be placed; you may want to decrease the size of the markers or use stripplot.\n",
      "  warnings.warn(msg, UserWarning)\n"
     ]
    },
    {
     "data": {
      "text/plain": [
       "<seaborn.axisgrid.FacetGrid at 0x28639b8d5b0>"
      ]
     },
     "execution_count": 42,
     "metadata": {},
     "output_type": "execute_result"
    },
    {
     "data": {
      "image/png": "[encoded data removed]",
      "text/plain": [
       "<Figure size 360x360 with 1 Axes>"
      ]
     },
     "metadata": {
      "needs_background": "light"
     },
     "output_type": "display_data"
    }
   ],
   "source": [
    "sns.catplot(x=\"Season\", y=\"Duration\",kind=\"swarm\", data=df)"
   ]
  },
  {
   "cell_type": "markdown",
   "id": "b456cfdf",
   "metadata": {},
   "source": [
    "#### Calculating th total duration of each season in minutes "
   ]
  },
  {
   "cell_type": "code",
   "execution_count": 43,
   "id": "7684b936",
   "metadata": {},
   "outputs": [],
   "source": [
    "f=df.groupby('Season')['Duration'].sum()\n",
    "duration=pd.DataFrame(f)\n",
    "duration=duration.reset_index()"
   ]
  },
  {
   "cell_type": "code",
   "execution_count": 44,
   "id": "199e9713",
   "metadata": {},
   "outputs": [
    {
     "data": {
      "text/html": [
       "<div>\n",
       "<style scoped>\n",
       "    .dataframe tbody tr th:only-of-type {\n",
       "        vertical-align: middle;\n",
       "    }\n",
       "\n",
       "    .dataframe tbody tr th {\n",
       "        vertical-align: top;\n",
       "    }\n",
       "\n",
       "    .dataframe thead th {\n",
       "        text-align: right;\n",
       "    }\n",
       "</style>\n",
       "<table border=\"1\" class=\"dataframe\">\n",
       "  <thead>\n",
       "    <tr style=\"text-align: right;\">\n",
       "      <th></th>\n",
       "      <th>Season</th>\n",
       "      <th>Duration</th>\n",
       "    </tr>\n",
       "  </thead>\n",
       "  <tbody>\n",
       "    <tr>\n",
       "      <th>0</th>\n",
       "      <td>1</td>\n",
       "      <td>506</td>\n",
       "    </tr>\n",
       "    <tr>\n",
       "      <th>1</th>\n",
       "      <td>2</td>\n",
       "      <td>528</td>\n",
       "    </tr>\n",
       "    <tr>\n",
       "      <th>2</th>\n",
       "      <td>3</td>\n",
       "      <td>550</td>\n",
       "    </tr>\n",
       "    <tr>\n",
       "      <th>3</th>\n",
       "      <td>4</td>\n",
       "      <td>544</td>\n",
       "    </tr>\n",
       "    <tr>\n",
       "      <th>4</th>\n",
       "      <td>5</td>\n",
       "      <td>528</td>\n",
       "    </tr>\n",
       "    <tr>\n",
       "      <th>5</th>\n",
       "      <td>6</td>\n",
       "      <td>582</td>\n",
       "    </tr>\n",
       "    <tr>\n",
       "      <th>6</th>\n",
       "      <td>7</td>\n",
       "      <td>528</td>\n",
       "    </tr>\n",
       "    <tr>\n",
       "      <th>7</th>\n",
       "      <td>8</td>\n",
       "      <td>528</td>\n",
       "    </tr>\n",
       "    <tr>\n",
       "      <th>8</th>\n",
       "      <td>9</td>\n",
       "      <td>544</td>\n",
       "    </tr>\n",
       "    <tr>\n",
       "      <th>9</th>\n",
       "      <td>10</td>\n",
       "      <td>412</td>\n",
       "    </tr>\n",
       "  </tbody>\n",
       "</table>\n",
       "</div>"
      ],
      "text/plain": [
       "   Season  Duration\n",
       "0       1       506\n",
       "1       2       528\n",
       "2       3       550\n",
       "3       4       544\n",
       "4       5       528\n",
       "5       6       582\n",
       "6       7       528\n",
       "7       8       528\n",
       "8       9       544\n",
       "9      10       412"
      ]
     },
     "execution_count": 44,
     "metadata": {},
     "output_type": "execute_result"
    }
   ],
   "source": [
    "duration"
   ]
  },
  {
   "cell_type": "code",
   "execution_count": 45,
   "id": "c4444685",
   "metadata": {},
   "outputs": [
    {
     "data": {
      "text/plain": [
       "<seaborn.axisgrid.FacetGrid at 0x28639d57a00>"
      ]
     },
     "execution_count": 45,
     "metadata": {},
     "output_type": "execute_result"
    },
    {
     "data": {
      "image/png": "[encoded data removed]",
      "text/plain": [
       "<Figure size 360x360 with 1 Axes>"
      ]
     },
     "metadata": {
      "needs_background": "light"
     },
     "output_type": "display_data"
    }
   ],
   "source": [
    "sns.catplot(x=\"Season\", y=\"Duration\",kind=\"swarm\", data=duration)"
   ]
  },
  {
   "cell_type": "code",
   "execution_count": 46,
   "id": "cdbe3bad",
   "metadata": {},
   "outputs": [
    {
     "data": {
      "text/plain": [
       "Text(0.5, 6.79999999999999, 'Seasons')"
      ]
     },
     "execution_count": 46,
     "metadata": {},
     "output_type": "execute_result"
    },
    {
     "data": {
      "image/png": "[encoded data removed]",
      "text/plain": [
       "<Figure size 360x360 with 1 Axes>"
      ]
     },
     "metadata": {
      "needs_background": "light"
     },
     "output_type": "display_data"
    }
   ],
   "source": [
    "sns.catplot(x=\"Season\", y=\"Duration\",kind=\"bar\", data=duration)\n",
    "plt.ylabel(\"Duration (min)\")\n",
    "plt.xlabel(\"Seasons\")"
   ]
  },
  {
   "cell_type": "markdown",
   "id": "0d20fdc0",
   "metadata": {},
   "source": [
    "# These are the factors that make 'FRIENDS' a popular series"
   ]
  },
  {
   "cell_type": "code",
   "execution_count": null,
   "id": "4bf1c00a",
   "metadata": {},
   "outputs": [],
   "source": []
  }
 ],
 "metadata": {
  "kernelspec": {
   "display_name": "Python 3 (ipykernel)",
   "language": "python",
   "name": "python3"
  },
  "language_info": {
   "codemirror_mode": {
    "name": "ipython",
    "version": 3
   },
   "file_extension": ".py",
   "mimetype": "text/x-python",
   "name": "python",
   "nbconvert_exporter": "python",
   "pygments_lexer": "ipython3",
   "version": "3.9.7"
  }
 },
 "nbformat": 4,
 "nbformat_minor": 5
}
